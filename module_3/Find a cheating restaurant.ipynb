{
 "cells": [
  {
   "cell_type": "markdown",
   "metadata": {},
   "source": [
    "![](https://www.pata.org/wp-content/uploads/2014/09/TripAdvisor_Logo-300x119.png)\n",
    "# Predict TripAdvisor Rating\n",
    "## В этом соревновании нам предстоит предсказать рейтинг ресторана в TripAdvisor\n",
    "**По ходу задачи:**\n",
    "* Прокачаем работу с pandas\n",
    "* Научимся работать с Kaggle Notebooks\n",
    "* Поймем как делать предобработку различных данных\n",
    "* Научимся работать с пропущенными данными (Nan)\n",
    "* Познакомимся с различными видами кодирования признаков\n",
    "* Немного попробуем [Feature Engineering]\n",
    "* И совсем немного затронем ML\n",
    "* И многое другое...   \n",
    "\n",
    "\n",
    "### И самое важное, все это вы сможете сделать самостоятельно!"
   ]
  },
  {
   "cell_type": "markdown",
   "metadata": {},
   "source": [
    "# import"
   ]
  },
  {
   "cell_type": "code",
   "execution_count": 1,
   "metadata": {
    "_cell_guid": "b1076dfc-b9ad-4769-8c92-a6c4dae69d19",
    "_uuid": "8f2839f25d086af736a60e9eeb907d3b93b6e0e5",
    "execution": {
     "iopub.execute_input": "2021-07-20T11:30:14.472762Z",
     "iopub.status.busy": "2021-07-20T11:30:14.472275Z",
     "iopub.status.idle": "2021-07-20T11:30:14.494005Z",
     "shell.execute_reply": "2021-07-20T11:30:14.492548Z",
     "shell.execute_reply.started": "2021-07-20T11:30:14.472695Z"
    }
   },
   "outputs": [],
   "source": [
    "# загружаем необходимые для работы библиотеки\n",
    "import pandas as pd\n",
    "import numpy as np\n",
    "import re \n",
    "from datetime import datetime\n",
    "from sklearn.model_selection import train_test_split\n",
    "from sklearn.ensemble import RandomForestRegressor # инструмент для создания и обучения модели\n",
    "from sklearn import metrics # инструменты для оценки точности модели\n",
    "import matplotlib.pyplot as plt\n",
    "\n",
    "# описываем необходимые для работы функции\n",
    "\n",
    "# функция, преобразующая строку с названиями кухонь в понятный компьютеру список [list] названий кухонь\n",
    "def clean_name(str_val):\n",
    "    str_val = str_val.strip('[]') # Отбрасываем скобки.\n",
    "    str_val = str_val.replace(\"\\'\",'') # Убираем кавычки '.\n",
    "    str_val = str_val.split(\", \") # Разбиваем строку по названиям кухонь.\n",
    "    return str_val\n",
    "\n",
    "# функция, помечающая наличие типа кухни в ресторане\n",
    "def find_item(cell):\n",
    "    if item in cell:\n",
    "        return 1\n",
    "    return 0\n",
    "\n",
    "# функция преобразования информации из отзыва в формат даты\n",
    "def review_to_date(review):\n",
    "    pattern = re.compile('\\'\\d+\\/\\d+\\/\\d+\\'?')\n",
    "    dat = pattern.findall(review)\n",
    "    if len(dat) >= 2:\n",
    "        datetime_list = []\n",
    "        for date in dat:\n",
    "            date = date[1:-1]\n",
    "            dt = datetime.strptime(date, '%m/%d/%Y')\n",
    "            datetime_list.append(dt)\n",
    "        return datetime_list\n",
    "    else:\n",
    "        return (dat)\n",
    "    \n",
    "# функция распознавания позитивности комментария    \n",
    "good = ['hidden gem','enchanting','ideal','perfect','like','cozy','cosy','pleasant','cool place','paradise','recommend','wow','haven','stylish','favorite','tasty','bravo','interesting','delightful','fantastic','delicious','love','wonderful','enjoyable','good','excellent','best','clean','unique','favourite','nice','great','lovely']\n",
    "neutral = ['not']\n",
    "bad = ['tipical','go away','lousy','awful','useless','too expensive','nasty','rude','dirty','worse','never coming back','poor','typical','overpric','usual','worst','let down','non recommend','wait','bad']\n",
    "\n",
    "def positive(row):\n",
    "    row = row.lower()\n",
    "    for i in bad:\n",
    "        if i in row:\n",
    "            return 1\n",
    "            break\n",
    "    for i in neutral:\n",
    "        if i in row:\n",
    "            return 2\n",
    "            break        \n",
    "    for i in good:\n",
    "        if i in row:\n",
    "            return 3\n",
    "            break      \n",
    "    else:\n",
    "        return 2"
   ]
  },
  {
   "cell_type": "code",
   "execution_count": 2,
   "metadata": {
    "execution": {
     "iopub.execute_input": "2021-07-20T11:30:14.496586Z",
     "iopub.status.busy": "2021-07-20T11:30:14.496285Z",
     "iopub.status.idle": "2021-07-20T11:30:14.514343Z",
     "shell.execute_reply": "2021-07-20T11:30:14.512764Z",
     "shell.execute_reply.started": "2021-07-20T11:30:14.496535Z"
    }
   },
   "outputs": [],
   "source": [
    "# всегда фиксируйте RANDOM_SEED, чтобы ваши эксперименты были воспроизводимы!\n",
    "RANDOM_SEED = 42"
   ]
  },
  {
   "cell_type": "code",
   "execution_count": 3,
   "metadata": {
    "execution": {
     "iopub.execute_input": "2021-07-20T11:30:14.516375Z",
     "iopub.status.busy": "2021-07-20T11:30:14.516049Z",
     "iopub.status.idle": "2021-07-20T11:30:17.116505Z",
     "shell.execute_reply": "2021-07-20T11:30:17.114937Z",
     "shell.execute_reply.started": "2021-07-20T11:30:14.516321Z"
    }
   },
   "outputs": [],
   "source": [
    "# зафиксируем версию пакетов, чтобы эксперименты были воспроизводимы:\n",
    "!pip freeze > requirements.txt"
   ]
  },
  {
   "cell_type": "markdown",
   "metadata": {},
   "source": [
    "# DATA"
   ]
  },
  {
   "cell_type": "code",
   "execution_count": 4,
   "metadata": {
    "_cell_guid": "79c7e3d0-c299-4dcb-8224-4455121ee9b0",
    "_uuid": "d629ff2d2480ee46fbb7e2d37f6b5fab8052498a",
    "execution": {
     "iopub.execute_input": "2021-07-20T11:30:17.119580Z",
     "iopub.status.busy": "2021-07-20T11:30:17.119066Z",
     "iopub.status.idle": "2021-07-20T11:30:17.443909Z",
     "shell.execute_reply": "2021-07-20T11:30:17.442627Z",
     "shell.execute_reply.started": "2021-07-20T11:30:17.119494Z"
    }
   },
   "outputs": [],
   "source": [
    "DATA_DIR = '/kaggle/input/sf-dst-restaurant-rating/'\n",
    "df_train = pd.read_csv(DATA_DIR+'/main_task.csv')\n",
    "df_test = pd.read_csv(DATA_DIR+'kaggle_task.csv')\n",
    "sample_submission = pd.read_csv(DATA_DIR+'/sample_submission.csv')"
   ]
  },
  {
   "cell_type": "code",
   "execution_count": 5,
   "metadata": {
    "execution": {
     "iopub.execute_input": "2021-07-20T11:30:17.448537Z",
     "iopub.status.busy": "2021-07-20T11:30:17.448050Z",
     "iopub.status.idle": "2021-07-20T11:30:17.473925Z",
     "shell.execute_reply": "2021-07-20T11:30:17.473017Z",
     "shell.execute_reply.started": "2021-07-20T11:30:17.448451Z"
    }
   },
   "outputs": [
    {
     "data": {
      "text/html": [
       "<div>\n",
       "<style scoped>\n",
       "    .dataframe tbody tr th:only-of-type {\n",
       "        vertical-align: middle;\n",
       "    }\n",
       "\n",
       "    .dataframe tbody tr th {\n",
       "        vertical-align: top;\n",
       "    }\n",
       "\n",
       "    .dataframe thead th {\n",
       "        text-align: right;\n",
       "    }\n",
       "</style>\n",
       "<table border=\"1\" class=\"dataframe\">\n",
       "  <thead>\n",
       "    <tr style=\"text-align: right;\">\n",
       "      <th></th>\n",
       "      <th>Restaurant_id</th>\n",
       "      <th>City</th>\n",
       "      <th>Cuisine Style</th>\n",
       "      <th>Ranking</th>\n",
       "      <th>Rating</th>\n",
       "      <th>Price Range</th>\n",
       "      <th>Number of Reviews</th>\n",
       "      <th>Reviews</th>\n",
       "      <th>URL_TA</th>\n",
       "      <th>ID_TA</th>\n",
       "    </tr>\n",
       "  </thead>\n",
       "  <tbody>\n",
       "    <tr>\n",
       "      <th>29109</th>\n",
       "      <td>id_10818</td>\n",
       "      <td>Paris</td>\n",
       "      <td>['Japanese']</td>\n",
       "      <td>10820.0</td>\n",
       "      <td>4.0</td>\n",
       "      <td>NaN</td>\n",
       "      <td>2.0</td>\n",
       "      <td>[[], []]</td>\n",
       "      <td>/Restaurant_Review-g187147-d4582796-Reviews-Na...</td>\n",
       "      <td>d4582796</td>\n",
       "    </tr>\n",
       "    <tr>\n",
       "      <th>31658</th>\n",
       "      <td>id_1490</td>\n",
       "      <td>Brussels</td>\n",
       "      <td>['Brazilian', 'South American']</td>\n",
       "      <td>1491.0</td>\n",
       "      <td>4.0</td>\n",
       "      <td>NaN</td>\n",
       "      <td>40.0</td>\n",
       "      <td>[['very tender beef', 'Pretty good'], ['03/27/...</td>\n",
       "      <td>/Restaurant_Review-g188644-d1869696-Reviews-Sa...</td>\n",
       "      <td>d1869696</td>\n",
       "    </tr>\n",
       "    <tr>\n",
       "      <th>32568</th>\n",
       "      <td>id_121</td>\n",
       "      <td>Geneva</td>\n",
       "      <td>['Mediterranean', 'French', 'European', 'Gastr...</td>\n",
       "      <td>122.0</td>\n",
       "      <td>4.0</td>\n",
       "      <td>$$$$</td>\n",
       "      <td>254.0</td>\n",
       "      <td>[['Classy and unpretentious', 'Pricey but very...</td>\n",
       "      <td>/Restaurant_Review-g1203132-d1524369-Reviews-R...</td>\n",
       "      <td>d1524369</td>\n",
       "    </tr>\n",
       "  </tbody>\n",
       "</table>\n",
       "</div>"
      ],
      "text/plain": [
       "      Restaurant_id      City  \\\n",
       "29109      id_10818     Paris   \n",
       "31658       id_1490  Brussels   \n",
       "32568        id_121    Geneva   \n",
       "\n",
       "                                           Cuisine Style  Ranking  Rating  \\\n",
       "29109                                       ['Japanese']  10820.0     4.0   \n",
       "31658                    ['Brazilian', 'South American']   1491.0     4.0   \n",
       "32568  ['Mediterranean', 'French', 'European', 'Gastr...    122.0     4.0   \n",
       "\n",
       "      Price Range  Number of Reviews  \\\n",
       "29109         NaN                2.0   \n",
       "31658         NaN               40.0   \n",
       "32568        $$$$              254.0   \n",
       "\n",
       "                                                 Reviews  \\\n",
       "29109                                           [[], []]   \n",
       "31658  [['very tender beef', 'Pretty good'], ['03/27/...   \n",
       "32568  [['Classy and unpretentious', 'Pricey but very...   \n",
       "\n",
       "                                                  URL_TA     ID_TA  \n",
       "29109  /Restaurant_Review-g187147-d4582796-Reviews-Na...  d4582796  \n",
       "31658  /Restaurant_Review-g188644-d1869696-Reviews-Sa...  d1869696  \n",
       "32568  /Restaurant_Review-g1203132-d1524369-Reviews-R...  d1524369  "
      ]
     },
     "execution_count": 5,
     "metadata": {},
     "output_type": "execute_result"
    }
   ],
   "source": [
    "df_train.sample(3)"
   ]
  },
  {
   "cell_type": "code",
   "execution_count": 6,
   "metadata": {
    "execution": {
     "iopub.execute_input": "2021-07-20T11:30:17.477275Z",
     "iopub.status.busy": "2021-07-20T11:30:17.476957Z",
     "iopub.status.idle": "2021-07-20T11:30:17.488879Z",
     "shell.execute_reply": "2021-07-20T11:30:17.487941Z",
     "shell.execute_reply.started": "2021-07-20T11:30:17.477217Z"
    }
   },
   "outputs": [
    {
     "data": {
      "text/html": [
       "<div>\n",
       "<style scoped>\n",
       "    .dataframe tbody tr th:only-of-type {\n",
       "        vertical-align: middle;\n",
       "    }\n",
       "\n",
       "    .dataframe tbody tr th {\n",
       "        vertical-align: top;\n",
       "    }\n",
       "\n",
       "    .dataframe thead th {\n",
       "        text-align: right;\n",
       "    }\n",
       "</style>\n",
       "<table border=\"1\" class=\"dataframe\">\n",
       "  <thead>\n",
       "    <tr style=\"text-align: right;\">\n",
       "      <th></th>\n",
       "      <th>Restaurant_id</th>\n",
       "      <th>Rating</th>\n",
       "    </tr>\n",
       "  </thead>\n",
       "  <tbody>\n",
       "    <tr>\n",
       "      <th>0</th>\n",
       "      <td>id_0</td>\n",
       "      <td>2.0</td>\n",
       "    </tr>\n",
       "    <tr>\n",
       "      <th>1</th>\n",
       "      <td>id_1</td>\n",
       "      <td>2.5</td>\n",
       "    </tr>\n",
       "    <tr>\n",
       "      <th>2</th>\n",
       "      <td>id_2</td>\n",
       "      <td>4.0</td>\n",
       "    </tr>\n",
       "    <tr>\n",
       "      <th>3</th>\n",
       "      <td>id_3</td>\n",
       "      <td>1.0</td>\n",
       "    </tr>\n",
       "    <tr>\n",
       "      <th>4</th>\n",
       "      <td>id_4</td>\n",
       "      <td>4.0</td>\n",
       "    </tr>\n",
       "  </tbody>\n",
       "</table>\n",
       "</div>"
      ],
      "text/plain": [
       "  Restaurant_id  Rating\n",
       "0          id_0     2.0\n",
       "1          id_1     2.5\n",
       "2          id_2     4.0\n",
       "3          id_3     1.0\n",
       "4          id_4     4.0"
      ]
     },
     "execution_count": 6,
     "metadata": {},
     "output_type": "execute_result"
    }
   ],
   "source": [
    "sample_submission.head(5)"
   ]
  },
  {
   "cell_type": "code",
   "execution_count": 7,
   "metadata": {
    "execution": {
     "iopub.execute_input": "2021-07-20T11:30:17.491278Z",
     "iopub.status.busy": "2021-07-20T11:30:17.490940Z",
     "iopub.status.idle": "2021-07-20T11:30:17.510848Z",
     "shell.execute_reply": "2021-07-20T11:30:17.509382Z",
     "shell.execute_reply.started": "2021-07-20T11:30:17.491226Z"
    }
   },
   "outputs": [
    {
     "name": "stdout",
     "output_type": "stream",
     "text": [
      "<class 'pandas.core.frame.DataFrame'>\n",
      "RangeIndex: 10000 entries, 0 to 9999\n",
      "Data columns (total 2 columns):\n",
      "Restaurant_id    10000 non-null object\n",
      "Rating           10000 non-null float64\n",
      "dtypes: float64(1), object(1)\n",
      "memory usage: 156.4+ KB\n"
     ]
    }
   ],
   "source": [
    "sample_submission.info()"
   ]
  },
  {
   "cell_type": "code",
   "execution_count": 8,
   "metadata": {
    "execution": {
     "iopub.execute_input": "2021-07-20T11:30:17.512869Z",
     "iopub.status.busy": "2021-07-20T11:30:17.512543Z",
     "iopub.status.idle": "2021-07-20T11:30:17.572411Z",
     "shell.execute_reply": "2021-07-20T11:30:17.571087Z",
     "shell.execute_reply.started": "2021-07-20T11:30:17.512798Z"
    }
   },
   "outputs": [],
   "source": [
    "# ВАЖНО! дря корректной обработки признаков объединяем трейн и тест в один датасет\n",
    "df_train['sample'] = 1 # помечаем где у нас трейн\n",
    "df_test['sample'] = 0 # помечаем где у нас тест\n",
    "df_test['Rating'] = 0 # в тесте у нас нет значения Rating, мы его должны предсказать, по этому пока просто заполняем нулями\n",
    "\n",
    "df = df_test.append(df_train, sort=False).reset_index(drop=True) # объединяем"
   ]
  },
  {
   "cell_type": "code",
   "execution_count": 9,
   "metadata": {
    "execution": {
     "iopub.execute_input": "2021-07-20T11:30:17.574908Z",
     "iopub.status.busy": "2021-07-20T11:30:17.574488Z",
     "iopub.status.idle": "2021-07-20T11:30:17.625368Z",
     "shell.execute_reply": "2021-07-20T11:30:17.624036Z",
     "shell.execute_reply.started": "2021-07-20T11:30:17.574831Z"
    }
   },
   "outputs": [
    {
     "name": "stdout",
     "output_type": "stream",
     "text": [
      "<class 'pandas.core.frame.DataFrame'>\n",
      "RangeIndex: 50000 entries, 0 to 49999\n",
      "Data columns (total 11 columns):\n",
      "Restaurant_id        50000 non-null object\n",
      "City                 50000 non-null object\n",
      "Cuisine Style        38410 non-null object\n",
      "Ranking              50000 non-null float64\n",
      "Price Range          32639 non-null object\n",
      "Number of Reviews    46800 non-null float64\n",
      "Reviews              49998 non-null object\n",
      "URL_TA               50000 non-null object\n",
      "ID_TA                50000 non-null object\n",
      "sample               50000 non-null int64\n",
      "Rating               50000 non-null float64\n",
      "dtypes: float64(3), int64(1), object(7)\n",
      "memory usage: 4.2+ MB\n"
     ]
    }
   ],
   "source": [
    "df.info()"
   ]
  },
  {
   "cell_type": "code",
   "execution_count": 10,
   "metadata": {
    "execution": {
     "iopub.execute_input": "2021-07-20T11:30:17.628082Z",
     "iopub.status.busy": "2021-07-20T11:30:17.627707Z",
     "iopub.status.idle": "2021-07-20T11:30:17.642457Z",
     "shell.execute_reply": "2021-07-20T11:30:17.641344Z",
     "shell.execute_reply.started": "2021-07-20T11:30:17.628016Z"
    }
   },
   "outputs": [],
   "source": [
    "df.Reviews.fillna('[[], []]', inplace = True)\n"
   ]
  },
  {
   "cell_type": "markdown",
   "metadata": {},
   "source": [
    "Описание датасета:\n",
    "\n",
    "Restaurant_id — идентификационный номер ресторана / сети ресторанов;\n",
    "\n",
    "City — город, в котором находится ресторан;\n",
    "\n",
    "Cuisine Style — кухня или кухни, к которым можно отнести блюда, предлагаемые в ресторане;\n",
    "\n",
    "Ranking — место, которое занимает данный ресторан среди всех ресторанов своего города;\n",
    "\n",
    "Rating — рейтинг ресторана по данным TripAdvisor (именно это значение должна будет предсказывать модель);\n",
    "\n",
    "Price Range — диапазон цен в ресторане;\n",
    "\n",
    "Number of Reviews — количество отзывов о ресторане;\n",
    "\n",
    "Reviews — данные о двух отзывах, которые отображаются на сайте ресторана;\n",
    "\n",
    "URL_TA — URL страницы ресторана на TripAdvisor;\n",
    "\n",
    "ID_TA — идентификатор ресторана в базе данных TripAdvisor."
   ]
  },
  {
   "cell_type": "code",
   "execution_count": 11,
   "metadata": {
    "execution": {
     "iopub.execute_input": "2021-07-20T11:30:17.644250Z",
     "iopub.status.busy": "2021-07-20T11:30:17.643837Z",
     "iopub.status.idle": "2021-07-20T11:30:17.670194Z",
     "shell.execute_reply": "2021-07-20T11:30:17.668840Z",
     "shell.execute_reply.started": "2021-07-20T11:30:17.644187Z"
    }
   },
   "outputs": [
    {
     "data": {
      "text/plain": [
       "Index(['Restaurant_id', 'City', 'Cuisine_Style', 'Ranking', 'Price_Range',\n",
       "       'Number_of_Reviews', 'Reviews', 'URL_TA', 'ID_TA', 'sample', 'Rating'],\n",
       "      dtype='object')"
      ]
     },
     "execution_count": 11,
     "metadata": {},
     "output_type": "execute_result"
    }
   ],
   "source": [
    "# преобразуем названия столбцов для удобства обращения к ним в будущем\n",
    "df.rename(columns={'Cuisine Style': 'Cuisine_Style', 'Price Range': 'Price_Range', 'Number of Reviews': 'Number_of_Reviews'}, inplace=True)\n",
    "df.columns"
   ]
  },
  {
   "cell_type": "markdown",
   "metadata": {},
   "source": [
    "## Очистка и обработка признаков"
   ]
  },
  {
   "cell_type": "markdown",
   "metadata": {},
   "source": [
    "посмотрим велико ли количество пропусков в предоставленной нам выборке (датасете)"
   ]
  },
  {
   "cell_type": "code",
   "execution_count": 12,
   "metadata": {
    "execution": {
     "iopub.execute_input": "2021-07-20T11:30:17.672211Z",
     "iopub.status.busy": "2021-07-20T11:30:17.671893Z",
     "iopub.status.idle": "2021-07-20T11:30:17.777050Z",
     "shell.execute_reply": "2021-07-20T11:30:17.776136Z",
     "shell.execute_reply.started": "2021-07-20T11:30:17.672139Z"
    }
   },
   "outputs": [
    {
     "name": "stdout",
     "output_type": "stream",
     "text": [
      "Restaurant_id - 0.0%\n",
      "City - 0.0%\n",
      "Cuisine_Style - 23.0%\n",
      "Ranking - 0.0%\n",
      "Price_Range - 35.0%\n",
      "Number_of_Reviews - 6.0%\n",
      "Reviews - 0.0%\n",
      "URL_TA - 0.0%\n",
      "ID_TA - 0.0%\n",
      "sample - 0.0%\n",
      "Rating - 0.0%\n",
      "<class 'pandas.core.frame.DataFrame'>\n",
      "RangeIndex: 50000 entries, 0 to 49999\n",
      "Data columns (total 11 columns):\n",
      "Restaurant_id        50000 non-null object\n",
      "City                 50000 non-null object\n",
      "Cuisine_Style        38410 non-null object\n",
      "Ranking              50000 non-null float64\n",
      "Price_Range          32639 non-null object\n",
      "Number_of_Reviews    46800 non-null float64\n",
      "Reviews              50000 non-null object\n",
      "URL_TA               50000 non-null object\n",
      "ID_TA                50000 non-null object\n",
      "sample               50000 non-null int64\n",
      "Rating               50000 non-null float64\n",
      "dtypes: float64(3), int64(1), object(7)\n",
      "memory usage: 4.2+ MB\n"
     ]
    }
   ],
   "source": [
    "for col in df.columns:\n",
    "    pct_missing = np.mean(df[col].isnull())\n",
    "    print('{} - {}%'.format(col, round(pct_missing*100)))\n",
    "df.info()# Считаем процент пропусков\n"
   ]
  },
  {
   "cell_type": "markdown",
   "metadata": {},
   "source": [
    "количество пропусков в колонках стиля кухни и уровня цен настолько велико (четверть и треть данных соответственно), что имеет смысл присвоить им отдельную категорию \"unknown\""
   ]
  },
  {
   "cell_type": "code",
   "execution_count": 13,
   "metadata": {
    "execution": {
     "iopub.execute_input": "2021-07-20T11:30:17.779081Z",
     "iopub.status.busy": "2021-07-20T11:30:17.778751Z",
     "iopub.status.idle": "2021-07-20T11:30:17.803466Z",
     "shell.execute_reply": "2021-07-20T11:30:17.802139Z",
     "shell.execute_reply.started": "2021-07-20T11:30:17.779024Z"
    }
   },
   "outputs": [],
   "source": [
    "df.Cuisine_Style = df.Cuisine_Style.fillna('unknown')\n",
    "df.Price_Range = df.Price_Range.fillna('unknown')"
   ]
  },
  {
   "cell_type": "markdown",
   "metadata": {},
   "source": [
    "### Number_of_Reviews"
   ]
  },
  {
   "cell_type": "code",
   "execution_count": 14,
   "metadata": {
    "execution": {
     "iopub.execute_input": "2021-07-20T11:30:17.805759Z",
     "iopub.status.busy": "2021-07-20T11:30:17.805416Z",
     "iopub.status.idle": "2021-07-20T11:30:17.822724Z",
     "shell.execute_reply": "2021-07-20T11:30:17.820292Z",
     "shell.execute_reply.started": "2021-07-20T11:30:17.805713Z"
    }
   },
   "outputs": [
    {
     "data": {
      "text/plain": [
       "count    46800.000000\n",
       "mean       124.471197\n",
       "std        294.114345\n",
       "min          2.000000\n",
       "25%          9.000000\n",
       "50%         33.000000\n",
       "75%        115.000000\n",
       "max       9660.000000\n",
       "Name: Number_of_Reviews, dtype: float64"
      ]
     },
     "execution_count": 14,
     "metadata": {},
     "output_type": "execute_result"
    }
   ],
   "source": [
    "# посмотрим на колонку с количеством отзывов\n",
    "df.Number_of_Reviews.describe()"
   ]
  },
  {
   "cell_type": "markdown",
   "metadata": {},
   "source": [
    "видим минимальное количество отзывов равное двум и хотим посмотреть на те строки, в которых количество не указано, возможно по таким ресторанам нет отзывовНекоторые id встречаются более 1 раза, что может быть всязано с тем, что они являются сетевыми. Создадим новый признак chain: 1 - ресторан сетевой, 0 - нет."
   ]
  },
  {
   "cell_type": "code",
   "execution_count": 15,
   "metadata": {
    "execution": {
     "iopub.execute_input": "2021-07-20T11:30:17.824828Z",
     "iopub.status.busy": "2021-07-20T11:30:17.824517Z",
     "iopub.status.idle": "2021-07-20T11:30:17.889115Z",
     "shell.execute_reply": "2021-07-20T11:30:17.887597Z",
     "shell.execute_reply.started": "2021-07-20T11:30:17.824789Z"
    }
   },
   "outputs": [
    {
     "data": {
      "text/html": [
       "<div>\n",
       "<style scoped>\n",
       "    .dataframe tbody tr th:only-of-type {\n",
       "        vertical-align: middle;\n",
       "    }\n",
       "\n",
       "    .dataframe tbody tr th {\n",
       "        vertical-align: top;\n",
       "    }\n",
       "\n",
       "    .dataframe thead th {\n",
       "        text-align: right;\n",
       "    }\n",
       "</style>\n",
       "<table border=\"1\" class=\"dataframe\">\n",
       "  <thead>\n",
       "    <tr style=\"text-align: right;\">\n",
       "      <th></th>\n",
       "      <th>Restaurant_id</th>\n",
       "      <th>City</th>\n",
       "      <th>Cuisine_Style</th>\n",
       "      <th>Ranking</th>\n",
       "      <th>Price_Range</th>\n",
       "      <th>Number_of_Reviews</th>\n",
       "      <th>Reviews</th>\n",
       "      <th>URL_TA</th>\n",
       "      <th>ID_TA</th>\n",
       "      <th>sample</th>\n",
       "      <th>Rating</th>\n",
       "    </tr>\n",
       "  </thead>\n",
       "  <tbody>\n",
       "    <tr>\n",
       "      <th>7</th>\n",
       "      <td>id_7</td>\n",
       "      <td>Budapest</td>\n",
       "      <td>unknown</td>\n",
       "      <td>2330.0</td>\n",
       "      <td>unknown</td>\n",
       "      <td>unknown</td>\n",
       "      <td>[[], []]</td>\n",
       "      <td>/Restaurant_Review-g274887-d8286886-Reviews-Be...</td>\n",
       "      <td>d8286886</td>\n",
       "      <td>0</td>\n",
       "      <td>0.0</td>\n",
       "    </tr>\n",
       "    <tr>\n",
       "      <th>25</th>\n",
       "      <td>id_25</td>\n",
       "      <td>Madrid</td>\n",
       "      <td>unknown</td>\n",
       "      <td>5828.0</td>\n",
       "      <td>unknown</td>\n",
       "      <td>unknown</td>\n",
       "      <td>[[], []]</td>\n",
       "      <td>/Restaurant_Review-g187514-d13202032-Reviews-W...</td>\n",
       "      <td>d13202032</td>\n",
       "      <td>0</td>\n",
       "      <td>0.0</td>\n",
       "    </tr>\n",
       "    <tr>\n",
       "      <th>53</th>\n",
       "      <td>id_53</td>\n",
       "      <td>Prague</td>\n",
       "      <td>unknown</td>\n",
       "      <td>2095.0</td>\n",
       "      <td>unknown</td>\n",
       "      <td>unknown</td>\n",
       "      <td>[[], []]</td>\n",
       "      <td>/Restaurant_Review-g274707-d7124128-Reviews-Ch...</td>\n",
       "      <td>d7124128</td>\n",
       "      <td>0</td>\n",
       "      <td>0.0</td>\n",
       "    </tr>\n",
       "    <tr>\n",
       "      <th>74</th>\n",
       "      <td>id_74</td>\n",
       "      <td>Prague</td>\n",
       "      <td>['Cafe', 'European', 'Czech']</td>\n",
       "      <td>2052.0</td>\n",
       "      <td>$</td>\n",
       "      <td>unknown</td>\n",
       "      <td>[[\"Nova' Doba\"], ['01/26/2017']]</td>\n",
       "      <td>/Restaurant_Review-g274707-d12032989-Reviews-C...</td>\n",
       "      <td>d12032989</td>\n",
       "      <td>0</td>\n",
       "      <td>0.0</td>\n",
       "    </tr>\n",
       "    <tr>\n",
       "      <th>81</th>\n",
       "      <td>id_81</td>\n",
       "      <td>Barcelona</td>\n",
       "      <td>['Peruvian', 'South American']</td>\n",
       "      <td>4325.0</td>\n",
       "      <td>$$ - $$$</td>\n",
       "      <td>unknown</td>\n",
       "      <td>[[], []]</td>\n",
       "      <td>/Restaurant_Review-g187497-d10088997-Reviews-N...</td>\n",
       "      <td>d10088997</td>\n",
       "      <td>0</td>\n",
       "      <td>0.0</td>\n",
       "    </tr>\n",
       "    <tr>\n",
       "      <th>...</th>\n",
       "      <td>...</td>\n",
       "      <td>...</td>\n",
       "      <td>...</td>\n",
       "      <td>...</td>\n",
       "      <td>...</td>\n",
       "      <td>...</td>\n",
       "      <td>...</td>\n",
       "      <td>...</td>\n",
       "      <td>...</td>\n",
       "      <td>...</td>\n",
       "      <td>...</td>\n",
       "    </tr>\n",
       "    <tr>\n",
       "      <th>49965</th>\n",
       "      <td>id_5720</td>\n",
       "      <td>Rome</td>\n",
       "      <td>unknown</td>\n",
       "      <td>5722.0</td>\n",
       "      <td>unknown</td>\n",
       "      <td>unknown</td>\n",
       "      <td>[[], []]</td>\n",
       "      <td>/Restaurant_Review-g187791-d793376-Reviews-Wes...</td>\n",
       "      <td>d793376</td>\n",
       "      <td>1</td>\n",
       "      <td>5.0</td>\n",
       "    </tr>\n",
       "    <tr>\n",
       "      <th>49972</th>\n",
       "      <td>id_2009</td>\n",
       "      <td>Prague</td>\n",
       "      <td>['Cafe', 'Delicatessen', 'Healthy', 'Wine Bar'...</td>\n",
       "      <td>2012.0</td>\n",
       "      <td>$</td>\n",
       "      <td>unknown</td>\n",
       "      <td>[['Personal expirence'], ['10/27/2017']]</td>\n",
       "      <td>/Restaurant_Review-g274707-d12981295-Reviews-M...</td>\n",
       "      <td>d12981295</td>\n",
       "      <td>1</td>\n",
       "      <td>5.0</td>\n",
       "    </tr>\n",
       "    <tr>\n",
       "      <th>49986</th>\n",
       "      <td>id_7274</td>\n",
       "      <td>Madrid</td>\n",
       "      <td>unknown</td>\n",
       "      <td>7279.0</td>\n",
       "      <td>unknown</td>\n",
       "      <td>unknown</td>\n",
       "      <td>[[], []]</td>\n",
       "      <td>/Restaurant_Review-g187514-d12182212-Reviews-C...</td>\n",
       "      <td>d12182212</td>\n",
       "      <td>1</td>\n",
       "      <td>3.0</td>\n",
       "    </tr>\n",
       "    <tr>\n",
       "      <th>49988</th>\n",
       "      <td>id_4968</td>\n",
       "      <td>Berlin</td>\n",
       "      <td>unknown</td>\n",
       "      <td>4970.0</td>\n",
       "      <td>unknown</td>\n",
       "      <td>unknown</td>\n",
       "      <td>[[], []]</td>\n",
       "      <td>/Restaurant_Review-g187323-d7761701-Reviews-Ar...</td>\n",
       "      <td>d7761701</td>\n",
       "      <td>1</td>\n",
       "      <td>4.0</td>\n",
       "    </tr>\n",
       "    <tr>\n",
       "      <th>49989</th>\n",
       "      <td>id_8887</td>\n",
       "      <td>London</td>\n",
       "      <td>['International']</td>\n",
       "      <td>8896.0</td>\n",
       "      <td>unknown</td>\n",
       "      <td>unknown</td>\n",
       "      <td>[['I love this place!'], ['08/24/2015']]</td>\n",
       "      <td>/Restaurant_Review-g186338-d5550626-Reviews-Th...</td>\n",
       "      <td>d5550626</td>\n",
       "      <td>1</td>\n",
       "      <td>5.0</td>\n",
       "    </tr>\n",
       "  </tbody>\n",
       "</table>\n",
       "<p>3200 rows × 11 columns</p>\n",
       "</div>"
      ],
      "text/plain": [
       "      Restaurant_id       City  \\\n",
       "7              id_7   Budapest   \n",
       "25            id_25     Madrid   \n",
       "53            id_53     Prague   \n",
       "74            id_74     Prague   \n",
       "81            id_81  Barcelona   \n",
       "...             ...        ...   \n",
       "49965       id_5720       Rome   \n",
       "49972       id_2009     Prague   \n",
       "49986       id_7274     Madrid   \n",
       "49988       id_4968     Berlin   \n",
       "49989       id_8887     London   \n",
       "\n",
       "                                           Cuisine_Style  Ranking Price_Range  \\\n",
       "7                                                unknown   2330.0     unknown   \n",
       "25                                               unknown   5828.0     unknown   \n",
       "53                                               unknown   2095.0     unknown   \n",
       "74                         ['Cafe', 'European', 'Czech']   2052.0           $   \n",
       "81                        ['Peruvian', 'South American']   4325.0    $$ - $$$   \n",
       "...                                                  ...      ...         ...   \n",
       "49965                                            unknown   5722.0     unknown   \n",
       "49972  ['Cafe', 'Delicatessen', 'Healthy', 'Wine Bar'...   2012.0           $   \n",
       "49986                                            unknown   7279.0     unknown   \n",
       "49988                                            unknown   4970.0     unknown   \n",
       "49989                                  ['International']   8896.0     unknown   \n",
       "\n",
       "      Number_of_Reviews                                   Reviews  \\\n",
       "7               unknown                                  [[], []]   \n",
       "25              unknown                                  [[], []]   \n",
       "53              unknown                                  [[], []]   \n",
       "74              unknown          [[\"Nova' Doba\"], ['01/26/2017']]   \n",
       "81              unknown                                  [[], []]   \n",
       "...                 ...                                       ...   \n",
       "49965           unknown                                  [[], []]   \n",
       "49972           unknown  [['Personal expirence'], ['10/27/2017']]   \n",
       "49986           unknown                                  [[], []]   \n",
       "49988           unknown                                  [[], []]   \n",
       "49989           unknown  [['I love this place!'], ['08/24/2015']]   \n",
       "\n",
       "                                                  URL_TA      ID_TA  sample  \\\n",
       "7      /Restaurant_Review-g274887-d8286886-Reviews-Be...   d8286886       0   \n",
       "25     /Restaurant_Review-g187514-d13202032-Reviews-W...  d13202032       0   \n",
       "53     /Restaurant_Review-g274707-d7124128-Reviews-Ch...   d7124128       0   \n",
       "74     /Restaurant_Review-g274707-d12032989-Reviews-C...  d12032989       0   \n",
       "81     /Restaurant_Review-g187497-d10088997-Reviews-N...  d10088997       0   \n",
       "...                                                  ...        ...     ...   \n",
       "49965  /Restaurant_Review-g187791-d793376-Reviews-Wes...    d793376       1   \n",
       "49972  /Restaurant_Review-g274707-d12981295-Reviews-M...  d12981295       1   \n",
       "49986  /Restaurant_Review-g187514-d12182212-Reviews-C...  d12182212       1   \n",
       "49988  /Restaurant_Review-g187323-d7761701-Reviews-Ar...   d7761701       1   \n",
       "49989  /Restaurant_Review-g186338-d5550626-Reviews-Th...   d5550626       1   \n",
       "\n",
       "       Rating  \n",
       "7         0.0  \n",
       "25        0.0  \n",
       "53        0.0  \n",
       "74        0.0  \n",
       "81        0.0  \n",
       "...       ...  \n",
       "49965     5.0  \n",
       "49972     5.0  \n",
       "49986     3.0  \n",
       "49988     4.0  \n",
       "49989     5.0  \n",
       "\n",
       "[3200 rows x 11 columns]"
      ]
     },
     "execution_count": 15,
     "metadata": {},
     "output_type": "execute_result"
    }
   ],
   "source": [
    "# посмотрим на строки, в которых нет данных о количестве отзывов\n",
    "df.Number_of_Reviews = df.Number_of_Reviews.fillna('unknown')\n",
    "df[df.Number_of_Reviews == 'unknown']"
   ]
  },
  {
   "cell_type": "code",
   "execution_count": 16,
   "metadata": {
    "execution": {
     "iopub.execute_input": "2021-07-20T11:30:17.891564Z",
     "iopub.status.busy": "2021-07-20T11:30:17.891215Z",
     "iopub.status.idle": "2021-07-20T11:30:21.435391Z",
     "shell.execute_reply": "2021-07-20T11:30:21.434275Z",
     "shell.execute_reply.started": "2021-07-20T11:30:17.891512Z"
    }
   },
   "outputs": [
    {
     "name": "stderr",
     "output_type": "stream",
     "text": [
      "/opt/conda/lib/python3.6/site-packages/ipykernel_launcher.py:10: SettingWithCopyWarning: \n",
      "A value is trying to be set on a copy of a slice from a DataFrame\n",
      "\n",
      "See the caveats in the documentation: http://pandas.pydata.org/pandas-docs/stable/user_guide/indexing.html#returning-a-view-versus-a-copy\n",
      "  # Remove the CWD from sys.path while we load stuff.\n",
      "/opt/conda/lib/python3.6/site-packages/ipykernel_launcher.py:12: SettingWithCopyWarning: \n",
      "A value is trying to be set on a copy of a slice from a DataFrame\n",
      "\n",
      "See the caveats in the documentation: http://pandas.pydata.org/pandas-docs/stable/user_guide/indexing.html#returning-a-view-versus-a-copy\n",
      "  if sys.path[0] == '':\n"
     ]
    }
   ],
   "source": [
    "\"\"\"видим, что по ресторанам с неизвестным количеством отзывов встречаются как строки, в которых отзывов нет, так и одиночные отзывы посетителей\n",
    "разметим количество отзывов как 0 и 1 соответственно\"\"\"\n",
    "\n",
    "for i in range(0,len(df)):\n",
    "    string = df.Reviews[i]\n",
    "    #print (df.Number_of_Reviews[i])\n",
    "    #print (df.Reviews[i])\n",
    "    if df.Number_of_Reviews[i] == 'unknown':\n",
    "        if len(string) < 9: # строка без отзывов занимает 8 символов: [[], []]\n",
    "            df.Number_of_Reviews[i] = df.Number_of_Reviews[i].replace('unknown','0')\n",
    "        else:\n",
    "            df.Number_of_Reviews[i] = df.Number_of_Reviews[i].replace('unknown','1')\n",
    "\n",
    "df.Number_of_Reviews = df.Number_of_Reviews.apply(lambda x: int(x)) # возвращаем количество отзывов к числовому формату"
   ]
  },
  {
   "cell_type": "markdown",
   "metadata": {},
   "source": [
    "# City"
   ]
  },
  {
   "cell_type": "markdown",
   "metadata": {},
   "source": [
    "посмотрим на колонку с городами, в которых расположены рестораны"
   ]
  },
  {
   "cell_type": "code",
   "execution_count": 17,
   "metadata": {
    "execution": {
     "iopub.execute_input": "2021-07-20T11:30:21.437483Z",
     "iopub.status.busy": "2021-07-20T11:30:21.437180Z",
     "iopub.status.idle": "2021-07-20T11:30:21.460299Z",
     "shell.execute_reply": "2021-07-20T11:30:21.459220Z",
     "shell.execute_reply.started": "2021-07-20T11:30:21.437430Z"
    }
   },
   "outputs": [
    {
     "data": {
      "text/plain": [
       "London        7193\n",
       "Paris         6108\n",
       "Madrid        3813\n",
       "Barcelona     3395\n",
       "Berlin        2705\n",
       "Milan         2694\n",
       "Rome          2589\n",
       "Prague        1816\n",
       "Lisbon        1647\n",
       "Vienna        1443\n",
       "Amsterdam     1372\n",
       "Brussels      1314\n",
       "Hamburg       1186\n",
       "Munich        1145\n",
       "Lyon          1126\n",
       "Stockholm     1033\n",
       "Budapest      1021\n",
       "Warsaw         925\n",
       "Dublin         836\n",
       "Copenhagen     819\n",
       "Athens         776\n",
       "Edinburgh      745\n",
       "Zurich         685\n",
       "Oporto         642\n",
       "Geneva         590\n",
       "Krakow         554\n",
       "Oslo           488\n",
       "Helsinki       475\n",
       "Bratislava     380\n",
       "Luxembourg     263\n",
       "Ljubljana      222\n",
       "Name: City, dtype: int64"
      ]
     },
     "execution_count": 17,
     "metadata": {},
     "output_type": "execute_result"
    }
   ],
   "source": [
    "df.City.value_counts()"
   ]
  },
  {
   "cell_type": "code",
   "execution_count": 18,
   "metadata": {
    "execution": {
     "iopub.execute_input": "2021-07-20T11:30:21.462367Z",
     "iopub.status.busy": "2021-07-20T11:30:21.461979Z",
     "iopub.status.idle": "2021-07-20T11:30:21.480591Z",
     "shell.execute_reply": "2021-07-20T11:30:21.479497Z",
     "shell.execute_reply.started": "2021-07-20T11:30:21.462302Z"
    }
   },
   "outputs": [
    {
     "data": {
      "text/plain": [
       "31"
      ]
     },
     "execution_count": 18,
     "metadata": {},
     "output_type": "execute_result"
    }
   ],
   "source": [
    "len(df.City.unique()) # всего таких городов 31"
   ]
  },
  {
   "cell_type": "markdown",
   "metadata": {},
   "source": [
    "преобразуем колонку City в числовой признак dummie переменной"
   ]
  },
  {
   "cell_type": "code",
   "execution_count": 19,
   "metadata": {
    "execution": {
     "iopub.execute_input": "2021-07-20T11:30:21.482901Z",
     "iopub.status.busy": "2021-07-20T11:30:21.482560Z",
     "iopub.status.idle": "2021-07-20T11:30:21.526596Z",
     "shell.execute_reply": "2021-07-20T11:30:21.525758Z",
     "shell.execute_reply.started": "2021-07-20T11:30:21.482844Z"
    }
   },
   "outputs": [],
   "source": [
    "df = pd.get_dummies(df, columns = ['City'])"
   ]
  },
  {
   "cell_type": "markdown",
   "metadata": {},
   "source": [
    "### Number of reviews"
   ]
  },
  {
   "cell_type": "markdown",
   "metadata": {},
   "source": [
    "рассмотрим колонку с уровнем цен ресторана"
   ]
  },
  {
   "cell_type": "code",
   "execution_count": 20,
   "metadata": {
    "execution": {
     "iopub.execute_input": "2021-07-20T11:30:21.528460Z",
     "iopub.status.busy": "2021-07-20T11:30:21.527967Z",
     "iopub.status.idle": "2021-07-20T11:30:21.538643Z",
     "shell.execute_reply": "2021-07-20T11:30:21.537452Z",
     "shell.execute_reply.started": "2021-07-20T11:30:21.528414Z"
    }
   },
   "outputs": [
    {
     "data": {
      "text/plain": [
       "array(['$$ - $$$', '$$$$', '$', 'unknown'], dtype=object)"
      ]
     },
     "execution_count": 20,
     "metadata": {},
     "output_type": "execute_result"
    }
   ],
   "source": [
    "df['Price_Range'].unique()"
   ]
  },
  {
   "cell_type": "markdown",
   "metadata": {},
   "source": [
    "видим, что колонка содержит 4 варианта значений (неизвестно, дешёвые, средние и дорогие) у нас два варианта действий:\n",
    "\n",
    "1) ранжировать рестораны от 1 до 3 и заменить пропуски\n",
    "\n",
    "2) разбить данные на 4 колонки использую dummie переменные\n",
    "Проверим насколько сильна корреляция между целевой переменной \"рейтинг\" и уровнем цен"
   ]
  },
  {
   "cell_type": "code",
   "execution_count": 21,
   "metadata": {
    "execution": {
     "iopub.execute_input": "2021-07-20T11:30:21.541174Z",
     "iopub.status.busy": "2021-07-20T11:30:21.540517Z",
     "iopub.status.idle": "2021-07-20T11:30:21.551244Z",
     "shell.execute_reply": "2021-07-20T11:30:21.550016Z",
     "shell.execute_reply.started": "2021-07-20T11:30:21.541101Z"
    }
   },
   "outputs": [],
   "source": [
    "#df_train.rename(columns={'Price Range': 'Price_Range'}, inplace=True)\n",
    "#df_train.Price_Range = df.Price_Range.fillna('unknown')\n",
    "#dftest = df_train[df_train.columns[3:5]].copy() # создадим копию датафрейма для теста гипотезы\n",
    "#dftest = dftest.loc[dftest['Price_Range'] != 'unknown'] # исключим строки не содержащие необходимые для теста данные\n",
    "#dftest.Price_Range = dftest.Price_Range.replace('$','1') # задаём понятные компьютеру числовые соответствия уровню цен\n",
    "#dftest.Price_Range = dftest.Price_Range.replace('$$ - $$$','2')\n",
    "#dftest.Price_Range = dftest.Price_Range.replace('$$$$','3')\n",
    "\n",
    "#dftest.Price_Range = dftest.Price_Range.apply(lambda x: int(x)) # преобразуем колонку в числовой формат\n",
    "\n",
    "#ar1 = dftest.Rating # задаём параметры для сравнения матрицы корреляции\n",
    "#ar2 = dftest.Price_Range\n",
    "#print(np.corrcoef(ar1,ar2))"
   ]
  },
  {
   "cell_type": "markdown",
   "metadata": {},
   "source": [
    "Вывод теста: корреляция между рейтингом ресторана и уровнем цен статистически ничтожна и составила -0.0225. Следовательно люди присваивают оценку ресторану учитывая его уровень цен, и возможно люди даже более требовательны к дорогим ресторанам Для нас это значит, что мы пойдём вторым путём и разделим рестораны при помощи dummie переменных на 4 категории"
   ]
  },
  {
   "cell_type": "markdown",
   "metadata": {},
   "source": [
    "преобразуем колонку Price_Range в числовой признак dummie переменной"
   ]
  },
  {
   "cell_type": "code",
   "execution_count": 22,
   "metadata": {
    "execution": {
     "iopub.execute_input": "2021-07-20T11:30:21.553381Z",
     "iopub.status.busy": "2021-07-20T11:30:21.552834Z",
     "iopub.status.idle": "2021-07-20T11:30:21.621099Z",
     "shell.execute_reply": "2021-07-20T11:30:21.620285Z",
     "shell.execute_reply.started": "2021-07-20T11:30:21.553334Z"
    }
   },
   "outputs": [],
   "source": [
    "df = pd.get_dummies(df, columns = ['Price_Range']) "
   ]
  },
  {
   "cell_type": "markdown",
   "metadata": {},
   "source": [
    "### Cuisine_Style"
   ]
  },
  {
   "cell_type": "markdown",
   "metadata": {},
   "source": [
    "Проверим влияет ли параметр Cuisine_Style на точность определения рейтинга, возможно есть виду кухни, которые тяжело испортить чем-либо или наоборот, вызывающие низкие оценки вне зависимости от стараний рестораторов"
   ]
  },
  {
   "cell_type": "code",
   "execution_count": 23,
   "metadata": {
    "execution": {
     "iopub.execute_input": "2021-07-20T11:30:21.623114Z",
     "iopub.status.busy": "2021-07-20T11:30:21.622656Z",
     "iopub.status.idle": "2021-07-20T11:30:21.898714Z",
     "shell.execute_reply": "2021-07-20T11:30:21.897409Z",
     "shell.execute_reply.started": "2021-07-20T11:30:21.623070Z"
    }
   },
   "outputs": [
    {
     "data": {
      "text/plain": [
       "126"
      ]
     },
     "execution_count": 23,
     "metadata": {},
     "output_type": "execute_result"
    }
   ],
   "source": [
    "# применяем функцию преобразования содержимого колонки Cuisine_Style в список\n",
    "df.Cuisine_Style = df.Cuisine_Style.apply(clean_name) \n",
    "\n",
    "# Создадим список уникальных значений типов кухонь\n",
    "Cuisines = set() \n",
    "for i in df['Cuisine_Style']:\n",
    "    for j in i:\n",
    "        Cuisines.add(j)\n",
    "\n",
    "len(Cuisines) # 126 типов кухонь представлено в наборе данных (125 + unknown)"
   ]
  },
  {
   "cell_type": "code",
   "execution_count": 24,
   "metadata": {
    "execution": {
     "iopub.execute_input": "2021-07-20T11:30:21.901617Z",
     "iopub.status.busy": "2021-07-20T11:30:21.901245Z",
     "iopub.status.idle": "2021-07-20T11:30:21.974894Z",
     "shell.execute_reply": "2021-07-20T11:30:21.973487Z",
     "shell.execute_reply.started": "2021-07-20T11:30:21.901555Z"
    }
   },
   "outputs": [
    {
     "data": {
      "text/html": [
       "<div>\n",
       "<style scoped>\n",
       "    .dataframe tbody tr th:only-of-type {\n",
       "        vertical-align: middle;\n",
       "    }\n",
       "\n",
       "    .dataframe tbody tr th {\n",
       "        vertical-align: top;\n",
       "    }\n",
       "\n",
       "    .dataframe thead th {\n",
       "        text-align: right;\n",
       "    }\n",
       "</style>\n",
       "<table border=\"1\" class=\"dataframe\">\n",
       "  <thead>\n",
       "    <tr style=\"text-align: right;\">\n",
       "      <th></th>\n",
       "      <th>Count</th>\n",
       "    </tr>\n",
       "  </thead>\n",
       "  <tbody>\n",
       "    <tr>\n",
       "      <th>Vegetarian Friendly</th>\n",
       "      <td>14021</td>\n",
       "    </tr>\n",
       "    <tr>\n",
       "      <th>European</th>\n",
       "      <td>12561</td>\n",
       "    </tr>\n",
       "    <tr>\n",
       "      <th>unknown</th>\n",
       "      <td>11590</td>\n",
       "    </tr>\n",
       "    <tr>\n",
       "      <th>Mediterranean</th>\n",
       "      <td>7820</td>\n",
       "    </tr>\n",
       "    <tr>\n",
       "      <th>Italian</th>\n",
       "      <td>7433</td>\n",
       "    </tr>\n",
       "    <tr>\n",
       "      <th>...</th>\n",
       "      <td>...</td>\n",
       "    </tr>\n",
       "    <tr>\n",
       "      <th>Malaysian</th>\n",
       "      <td>38</td>\n",
       "    </tr>\n",
       "    <tr>\n",
       "      <th>Jamaican</th>\n",
       "      <td>36</td>\n",
       "    </tr>\n",
       "    <tr>\n",
       "      <th>Australian</th>\n",
       "      <td>36</td>\n",
       "    </tr>\n",
       "    <tr>\n",
       "      <th>Croatian</th>\n",
       "      <td>33</td>\n",
       "    </tr>\n",
       "    <tr>\n",
       "      <th>Cuban</th>\n",
       "      <td>32</td>\n",
       "    </tr>\n",
       "  </tbody>\n",
       "</table>\n",
       "<p>89 rows × 1 columns</p>\n",
       "</div>"
      ],
      "text/plain": [
       "                     Count\n",
       "Vegetarian Friendly  14021\n",
       "European             12561\n",
       "unknown              11590\n",
       "Mediterranean         7820\n",
       "Italian               7433\n",
       "...                    ...\n",
       "Malaysian               38\n",
       "Jamaican                36\n",
       "Australian              36\n",
       "Croatian                33\n",
       "Cuban                   32\n",
       "\n",
       "[89 rows x 1 columns]"
      ]
     },
     "execution_count": 24,
     "metadata": {},
     "output_type": "execute_result"
    }
   ],
   "source": [
    "# Посмотрим как распределены типы кухонь\n",
    "Cuisines_dct = {}  # создаём пустой словарь для хранения частоты встречи кухонь\n",
    "for i in Cuisines:  # перебираем список кухонь\n",
    "    Cuisines_dct[i] = 0 # добавляем в словарь ключ, соответствующий очередной кухне\n",
    "for c in df['Cuisine_Style']:   # перебираем список кухонь\n",
    "    for j in c:\n",
    "        Cuisines_dct[j] += 1   # увеличиваем значение нужного ключа в словаре на 1\n",
    "\n",
    "dftest3 = pd.DataFrame.from_dict(Cuisines_dct, columns=['Count'], orient='index')\n",
    "dftest3 = dftest3[dftest3['Count'] > 30] # в целях увеличения статистической достоверности рассмотрим только типы кухонь, встречающиеся не реже заданного количества раз\n",
    "dftest3.sort_values(by = ['Count'], ascending = False) "
   ]
  },
  {
   "cell_type": "code",
   "execution_count": 25,
   "metadata": {
    "execution": {
     "iopub.execute_input": "2021-07-20T11:30:21.977509Z",
     "iopub.status.busy": "2021-07-20T11:30:21.977030Z",
     "iopub.status.idle": "2021-07-20T11:30:25.448057Z",
     "shell.execute_reply": "2021-07-20T11:30:25.446765Z",
     "shell.execute_reply.started": "2021-07-20T11:30:21.977427Z"
    }
   },
   "outputs": [
    {
     "data": {
      "text/html": [
       "<div>\n",
       "<style scoped>\n",
       "    .dataframe tbody tr th:only-of-type {\n",
       "        vertical-align: middle;\n",
       "    }\n",
       "\n",
       "    .dataframe tbody tr th {\n",
       "        vertical-align: top;\n",
       "    }\n",
       "\n",
       "    .dataframe thead th {\n",
       "        text-align: right;\n",
       "    }\n",
       "</style>\n",
       "<table border=\"1\" class=\"dataframe\">\n",
       "  <thead>\n",
       "    <tr style=\"text-align: right;\">\n",
       "      <th></th>\n",
       "      <th>Restaurant_id</th>\n",
       "      <th>Cuisine_Style</th>\n",
       "      <th>Ranking</th>\n",
       "      <th>Number_of_Reviews</th>\n",
       "      <th>Reviews</th>\n",
       "      <th>URL_TA</th>\n",
       "      <th>ID_TA</th>\n",
       "      <th>sample</th>\n",
       "      <th>Rating</th>\n",
       "      <th>City_Amsterdam</th>\n",
       "      <th>...</th>\n",
       "      <th>Vegan Options</th>\n",
       "      <th>British</th>\n",
       "      <th>Pizza</th>\n",
       "      <th>Wine Bar</th>\n",
       "      <th>Portuguese</th>\n",
       "      <th>Belgian</th>\n",
       "      <th>Central European</th>\n",
       "      <th>Scandinavian</th>\n",
       "      <th>Peruvian</th>\n",
       "      <th>Italian</th>\n",
       "    </tr>\n",
       "  </thead>\n",
       "  <tbody>\n",
       "    <tr>\n",
       "      <th>0</th>\n",
       "      <td>id_0</td>\n",
       "      <td>2</td>\n",
       "      <td>12963.0</td>\n",
       "      <td>4</td>\n",
       "      <td>[[], []]</td>\n",
       "      <td>/Restaurant_Review-g187147-d10746918-Reviews-L...</td>\n",
       "      <td>d10746918</td>\n",
       "      <td>0</td>\n",
       "      <td>0.0</td>\n",
       "      <td>0</td>\n",
       "      <td>...</td>\n",
       "      <td>0</td>\n",
       "      <td>0</td>\n",
       "      <td>0</td>\n",
       "      <td>0</td>\n",
       "      <td>0</td>\n",
       "      <td>0</td>\n",
       "      <td>0</td>\n",
       "      <td>0</td>\n",
       "      <td>0</td>\n",
       "      <td>0</td>\n",
       "    </tr>\n",
       "    <tr>\n",
       "      <th>1</th>\n",
       "      <td>id_1</td>\n",
       "      <td>5</td>\n",
       "      <td>106.0</td>\n",
       "      <td>97</td>\n",
       "      <td>[['Very good reviews!', 'Fine dining in Hakani...</td>\n",
       "      <td>/Restaurant_Review-g189934-d6674944-Reviews-Ra...</td>\n",
       "      <td>d6674944</td>\n",
       "      <td>0</td>\n",
       "      <td>0.0</td>\n",
       "      <td>0</td>\n",
       "      <td>...</td>\n",
       "      <td>1</td>\n",
       "      <td>0</td>\n",
       "      <td>0</td>\n",
       "      <td>0</td>\n",
       "      <td>0</td>\n",
       "      <td>0</td>\n",
       "      <td>0</td>\n",
       "      <td>1</td>\n",
       "      <td>0</td>\n",
       "      <td>0</td>\n",
       "    </tr>\n",
       "    <tr>\n",
       "      <th>2</th>\n",
       "      <td>id_2</td>\n",
       "      <td>1</td>\n",
       "      <td>810.0</td>\n",
       "      <td>28</td>\n",
       "      <td>[['Better than the Links', 'Ivy Black'], ['12/...</td>\n",
       "      <td>/Restaurant_Review-g186525-d13129638-Reviews-B...</td>\n",
       "      <td>d13129638</td>\n",
       "      <td>0</td>\n",
       "      <td>0.0</td>\n",
       "      <td>0</td>\n",
       "      <td>...</td>\n",
       "      <td>0</td>\n",
       "      <td>0</td>\n",
       "      <td>0</td>\n",
       "      <td>0</td>\n",
       "      <td>0</td>\n",
       "      <td>0</td>\n",
       "      <td>0</td>\n",
       "      <td>0</td>\n",
       "      <td>0</td>\n",
       "      <td>0</td>\n",
       "    </tr>\n",
       "    <tr>\n",
       "      <th>3</th>\n",
       "      <td>id_3</td>\n",
       "      <td>5</td>\n",
       "      <td>1669.0</td>\n",
       "      <td>202</td>\n",
       "      <td>[['Most exquisite', 'Delicious and authentic']...</td>\n",
       "      <td>/Restaurant_Review-g186338-d680417-Reviews-Qui...</td>\n",
       "      <td>d680417</td>\n",
       "      <td>0</td>\n",
       "      <td>0.0</td>\n",
       "      <td>0</td>\n",
       "      <td>...</td>\n",
       "      <td>0</td>\n",
       "      <td>0</td>\n",
       "      <td>0</td>\n",
       "      <td>0</td>\n",
       "      <td>0</td>\n",
       "      <td>0</td>\n",
       "      <td>0</td>\n",
       "      <td>0</td>\n",
       "      <td>0</td>\n",
       "      <td>1</td>\n",
       "    </tr>\n",
       "    <tr>\n",
       "      <th>4</th>\n",
       "      <td>id_4</td>\n",
       "      <td>6</td>\n",
       "      <td>37.0</td>\n",
       "      <td>162</td>\n",
       "      <td>[['Always the best in bratislava', 'Very good ...</td>\n",
       "      <td>/Restaurant_Review-g274924-d1112354-Reviews-Ma...</td>\n",
       "      <td>d1112354</td>\n",
       "      <td>0</td>\n",
       "      <td>0.0</td>\n",
       "      <td>0</td>\n",
       "      <td>...</td>\n",
       "      <td>0</td>\n",
       "      <td>0</td>\n",
       "      <td>0</td>\n",
       "      <td>0</td>\n",
       "      <td>0</td>\n",
       "      <td>0</td>\n",
       "      <td>0</td>\n",
       "      <td>0</td>\n",
       "      <td>0</td>\n",
       "      <td>1</td>\n",
       "    </tr>\n",
       "    <tr>\n",
       "      <th>...</th>\n",
       "      <td>...</td>\n",
       "      <td>...</td>\n",
       "      <td>...</td>\n",
       "      <td>...</td>\n",
       "      <td>...</td>\n",
       "      <td>...</td>\n",
       "      <td>...</td>\n",
       "      <td>...</td>\n",
       "      <td>...</td>\n",
       "      <td>...</td>\n",
       "      <td>...</td>\n",
       "      <td>...</td>\n",
       "      <td>...</td>\n",
       "      <td>...</td>\n",
       "      <td>...</td>\n",
       "      <td>...</td>\n",
       "      <td>...</td>\n",
       "      <td>...</td>\n",
       "      <td>...</td>\n",
       "      <td>...</td>\n",
       "      <td>...</td>\n",
       "    </tr>\n",
       "    <tr>\n",
       "      <th>49995</th>\n",
       "      <td>id_499</td>\n",
       "      <td>4</td>\n",
       "      <td>500.0</td>\n",
       "      <td>79</td>\n",
       "      <td>[['The real Italian experience!', 'Wonderful f...</td>\n",
       "      <td>/Restaurant_Review-g187849-d2104414-Reviews-Ro...</td>\n",
       "      <td>d2104414</td>\n",
       "      <td>1</td>\n",
       "      <td>4.5</td>\n",
       "      <td>0</td>\n",
       "      <td>...</td>\n",
       "      <td>1</td>\n",
       "      <td>0</td>\n",
       "      <td>0</td>\n",
       "      <td>0</td>\n",
       "      <td>0</td>\n",
       "      <td>0</td>\n",
       "      <td>0</td>\n",
       "      <td>0</td>\n",
       "      <td>0</td>\n",
       "      <td>1</td>\n",
       "    </tr>\n",
       "    <tr>\n",
       "      <th>49996</th>\n",
       "      <td>id_6340</td>\n",
       "      <td>5</td>\n",
       "      <td>6341.0</td>\n",
       "      <td>542</td>\n",
       "      <td>[['Parisian atmosphere', 'Bit pricey but inter...</td>\n",
       "      <td>/Restaurant_Review-g187147-d1800036-Reviews-La...</td>\n",
       "      <td>d1800036</td>\n",
       "      <td>1</td>\n",
       "      <td>3.5</td>\n",
       "      <td>0</td>\n",
       "      <td>...</td>\n",
       "      <td>0</td>\n",
       "      <td>0</td>\n",
       "      <td>0</td>\n",
       "      <td>0</td>\n",
       "      <td>0</td>\n",
       "      <td>0</td>\n",
       "      <td>0</td>\n",
       "      <td>0</td>\n",
       "      <td>0</td>\n",
       "      <td>0</td>\n",
       "    </tr>\n",
       "    <tr>\n",
       "      <th>49997</th>\n",
       "      <td>id_1649</td>\n",
       "      <td>2</td>\n",
       "      <td>1652.0</td>\n",
       "      <td>4</td>\n",
       "      <td>[['Good by swedish standards', 'A hidden jewel...</td>\n",
       "      <td>/Restaurant_Review-g189852-d947615-Reviews-Sus...</td>\n",
       "      <td>d947615</td>\n",
       "      <td>1</td>\n",
       "      <td>4.5</td>\n",
       "      <td>0</td>\n",
       "      <td>...</td>\n",
       "      <td>0</td>\n",
       "      <td>0</td>\n",
       "      <td>0</td>\n",
       "      <td>0</td>\n",
       "      <td>0</td>\n",
       "      <td>0</td>\n",
       "      <td>0</td>\n",
       "      <td>0</td>\n",
       "      <td>0</td>\n",
       "      <td>0</td>\n",
       "    </tr>\n",
       "    <tr>\n",
       "      <th>49998</th>\n",
       "      <td>id_640</td>\n",
       "      <td>5</td>\n",
       "      <td>641.0</td>\n",
       "      <td>70</td>\n",
       "      <td>[['Underground restaurant', 'Oldest Restaurant...</td>\n",
       "      <td>/Restaurant_Review-g274856-d1100838-Reviews-Ho...</td>\n",
       "      <td>d1100838</td>\n",
       "      <td>1</td>\n",
       "      <td>4.0</td>\n",
       "      <td>0</td>\n",
       "      <td>...</td>\n",
       "      <td>0</td>\n",
       "      <td>0</td>\n",
       "      <td>0</td>\n",
       "      <td>0</td>\n",
       "      <td>0</td>\n",
       "      <td>0</td>\n",
       "      <td>1</td>\n",
       "      <td>0</td>\n",
       "      <td>0</td>\n",
       "      <td>0</td>\n",
       "    </tr>\n",
       "    <tr>\n",
       "      <th>49999</th>\n",
       "      <td>id_4824</td>\n",
       "      <td>1</td>\n",
       "      <td>4827.0</td>\n",
       "      <td>260</td>\n",
       "      <td>[['Average', 'Nice an informal'], ['01/31/2016...</td>\n",
       "      <td>/Restaurant_Review-g187849-d1109020-Reviews-Ta...</td>\n",
       "      <td>d1109020</td>\n",
       "      <td>1</td>\n",
       "      <td>3.0</td>\n",
       "      <td>0</td>\n",
       "      <td>...</td>\n",
       "      <td>0</td>\n",
       "      <td>0</td>\n",
       "      <td>0</td>\n",
       "      <td>0</td>\n",
       "      <td>0</td>\n",
       "      <td>0</td>\n",
       "      <td>0</td>\n",
       "      <td>0</td>\n",
       "      <td>0</td>\n",
       "      <td>0</td>\n",
       "    </tr>\n",
       "  </tbody>\n",
       "</table>\n",
       "<p>50000 rows × 133 columns</p>\n",
       "</div>"
      ],
      "text/plain": [
       "      Restaurant_id  Cuisine_Style  Ranking  Number_of_Reviews  \\\n",
       "0              id_0              2  12963.0                  4   \n",
       "1              id_1              5    106.0                 97   \n",
       "2              id_2              1    810.0                 28   \n",
       "3              id_3              5   1669.0                202   \n",
       "4              id_4              6     37.0                162   \n",
       "...             ...            ...      ...                ...   \n",
       "49995        id_499              4    500.0                 79   \n",
       "49996       id_6340              5   6341.0                542   \n",
       "49997       id_1649              2   1652.0                  4   \n",
       "49998        id_640              5    641.0                 70   \n",
       "49999       id_4824              1   4827.0                260   \n",
       "\n",
       "                                                 Reviews  \\\n",
       "0                                               [[], []]   \n",
       "1      [['Very good reviews!', 'Fine dining in Hakani...   \n",
       "2      [['Better than the Links', 'Ivy Black'], ['12/...   \n",
       "3      [['Most exquisite', 'Delicious and authentic']...   \n",
       "4      [['Always the best in bratislava', 'Very good ...   \n",
       "...                                                  ...   \n",
       "49995  [['The real Italian experience!', 'Wonderful f...   \n",
       "49996  [['Parisian atmosphere', 'Bit pricey but inter...   \n",
       "49997  [['Good by swedish standards', 'A hidden jewel...   \n",
       "49998  [['Underground restaurant', 'Oldest Restaurant...   \n",
       "49999  [['Average', 'Nice an informal'], ['01/31/2016...   \n",
       "\n",
       "                                                  URL_TA      ID_TA  sample  \\\n",
       "0      /Restaurant_Review-g187147-d10746918-Reviews-L...  d10746918       0   \n",
       "1      /Restaurant_Review-g189934-d6674944-Reviews-Ra...   d6674944       0   \n",
       "2      /Restaurant_Review-g186525-d13129638-Reviews-B...  d13129638       0   \n",
       "3      /Restaurant_Review-g186338-d680417-Reviews-Qui...    d680417       0   \n",
       "4      /Restaurant_Review-g274924-d1112354-Reviews-Ma...   d1112354       0   \n",
       "...                                                  ...        ...     ...   \n",
       "49995  /Restaurant_Review-g187849-d2104414-Reviews-Ro...   d2104414       1   \n",
       "49996  /Restaurant_Review-g187147-d1800036-Reviews-La...   d1800036       1   \n",
       "49997  /Restaurant_Review-g189852-d947615-Reviews-Sus...    d947615       1   \n",
       "49998  /Restaurant_Review-g274856-d1100838-Reviews-Ho...   d1100838       1   \n",
       "49999  /Restaurant_Review-g187849-d1109020-Reviews-Ta...   d1109020       1   \n",
       "\n",
       "       Rating  City_Amsterdam  ...  Vegan Options  British  Pizza  Wine Bar  \\\n",
       "0         0.0               0  ...              0        0      0         0   \n",
       "1         0.0               0  ...              1        0      0         0   \n",
       "2         0.0               0  ...              0        0      0         0   \n",
       "3         0.0               0  ...              0        0      0         0   \n",
       "4         0.0               0  ...              0        0      0         0   \n",
       "...       ...             ...  ...            ...      ...    ...       ...   \n",
       "49995     4.5               0  ...              1        0      0         0   \n",
       "49996     3.5               0  ...              0        0      0         0   \n",
       "49997     4.5               0  ...              0        0      0         0   \n",
       "49998     4.0               0  ...              0        0      0         0   \n",
       "49999     3.0               0  ...              0        0      0         0   \n",
       "\n",
       "       Portuguese  Belgian  Central European  Scandinavian  Peruvian  Italian  \n",
       "0               0        0                 0             0         0        0  \n",
       "1               0        0                 0             1         0        0  \n",
       "2               0        0                 0             0         0        0  \n",
       "3               0        0                 0             0         0        1  \n",
       "4               0        0                 0             0         0        1  \n",
       "...           ...      ...               ...           ...       ...      ...  \n",
       "49995           0        0                 0             0         0        1  \n",
       "49996           0        0                 0             0         0        0  \n",
       "49997           0        0                 0             0         0        0  \n",
       "49998           0        0                 1             0         0        0  \n",
       "49999           0        0                 0             0         0        0  \n",
       "\n",
       "[50000 rows x 133 columns]"
      ]
     },
     "execution_count": 25,
     "metadata": {},
     "output_type": "execute_result"
    }
   ],
   "source": [
    "# запускаем код, создающий столбцы с наименованием типа кухни\n",
    "for item in dftest3.index:\n",
    "    df[item] = df.Cuisine_Style.apply(find_item)\n",
    "    \n",
    "# заменим список типов кухонь на их количество\n",
    "df.Cuisine_Style = df.Cuisine_Style.apply(len)    \n",
    "\n",
    "df"
   ]
  },
  {
   "cell_type": "markdown",
   "metadata": {},
   "source": [
    "### Restaurant_id"
   ]
  },
  {
   "cell_type": "code",
   "execution_count": 26,
   "metadata": {
    "execution": {
     "iopub.execute_input": "2021-07-20T11:30:25.450490Z",
     "iopub.status.busy": "2021-07-20T11:30:25.450091Z",
     "iopub.status.idle": "2021-07-20T11:30:25.489293Z",
     "shell.execute_reply": "2021-07-20T11:30:25.487362Z",
     "shell.execute_reply.started": "2021-07-20T11:30:25.450418Z"
    }
   },
   "outputs": [
    {
     "data": {
      "text/plain": [
       "id_633      19\n",
       "id_227      19\n",
       "id_871      19\n",
       "id_436      19\n",
       "id_71       18\n",
       "            ..\n",
       "id_9476      1\n",
       "id_12166     1\n",
       "id_13319     1\n",
       "id_10754     1\n",
       "id_12897     1\n",
       "Name: Restaurant_id, Length: 13094, dtype: int64"
      ]
     },
     "execution_count": 26,
     "metadata": {},
     "output_type": "execute_result"
    }
   ],
   "source": [
    "df.Restaurant_id.value_counts()"
   ]
  },
  {
   "cell_type": "markdown",
   "metadata": {},
   "source": [
    "Мы видим что есть повторящиеся id, возможно эти рестораны сетевые.\n",
    "\n",
    "Создадим новый признак chain: 1 - сетевой, 0 - несетевой."
   ]
  },
  {
   "cell_type": "code",
   "execution_count": 27,
   "metadata": {
    "execution": {
     "iopub.execute_input": "2021-07-20T11:30:25.491472Z",
     "iopub.status.busy": "2021-07-20T11:30:25.491105Z",
     "iopub.status.idle": "2021-07-20T11:30:25.687266Z",
     "shell.execute_reply": "2021-07-20T11:30:25.686403Z",
     "shell.execute_reply.started": "2021-07-20T11:30:25.491411Z"
    }
   },
   "outputs": [
    {
     "data": {
      "text/plain": [
       "1.0    46193\n",
       "0.0     3807\n",
       "Name: chain, dtype: int64"
      ]
     },
     "execution_count": 27,
     "metadata": {},
     "output_type": "execute_result"
    }
   ],
   "source": [
    "chain_lst = list(df.Restaurant_id.value_counts()[df.Restaurant_id.value_counts() > 1].index)\n",
    "df['chain'] = df[df.Restaurant_id.isin(chain_lst)].Restaurant_id.apply(lambda x: 1)\n",
    "df['chain'].fillna(0, inplace=True)\n",
    "df['chain'].value_counts()"
   ]
  },
  {
   "cell_type": "markdown",
   "metadata": {},
   "source": [
    "### Reviews"
   ]
  },
  {
   "cell_type": "markdown",
   "metadata": {},
   "source": [
    "рассмотрим параметр Reviews если ресторан накручивает себе рейтинг, то он делает это именно за счёт добавления липовых отзывов, иных вариантов быть не может. Однако посмотрим на результаты."
   ]
  },
  {
   "cell_type": "code",
   "execution_count": 28,
   "metadata": {
    "execution": {
     "iopub.execute_input": "2021-07-20T11:30:25.689225Z",
     "iopub.status.busy": "2021-07-20T11:30:25.688887Z",
     "iopub.status.idle": "2021-07-20T11:30:25.695843Z",
     "shell.execute_reply": "2021-07-20T11:30:25.694973Z",
     "shell.execute_reply.started": "2021-07-20T11:30:25.689167Z"
    }
   },
   "outputs": [
    {
     "data": {
      "text/plain": [
       "\"[['Very good reviews!', 'Fine dining in Hakaniemi'], ['12/05/2017', '10/29/2017']]\""
      ]
     },
     "execution_count": 28,
     "metadata": {},
     "output_type": "execute_result"
    }
   ],
   "source": [
    "df.Reviews[1]"
   ]
  },
  {
   "cell_type": "markdown",
   "metadata": {},
   "source": [
    "Значения признака представлены в виде строки, но есть четкая структура списков.\n",
    "\n",
    "Посмотрим на содержание комментариев и попробуем категоризировать отзывы как положительные, отрицательные и нейтральные"
   ]
  },
  {
   "cell_type": "code",
   "execution_count": 29,
   "metadata": {
    "execution": {
     "iopub.execute_input": "2021-07-20T11:30:25.701962Z",
     "iopub.status.busy": "2021-07-20T11:30:25.701580Z",
     "iopub.status.idle": "2021-07-20T11:30:26.030487Z",
     "shell.execute_reply": "2021-07-20T11:30:26.029454Z",
     "shell.execute_reply.started": "2021-07-20T11:30:25.701900Z"
    }
   },
   "outputs": [],
   "source": [
    "df['positive'] = df.Reviews.apply(lambda x: positive(x))"
   ]
  },
  {
   "cell_type": "code",
   "execution_count": 30,
   "metadata": {
    "execution": {
     "iopub.execute_input": "2021-07-20T11:30:26.032739Z",
     "iopub.status.busy": "2021-07-20T11:30:26.032411Z",
     "iopub.status.idle": "2021-07-20T11:30:27.070181Z",
     "shell.execute_reply": "2021-07-20T11:30:27.068944Z",
     "shell.execute_reply.started": "2021-07-20T11:30:26.032680Z"
    }
   },
   "outputs": [],
   "source": [
    "# преобразуем колонку\n",
    "df['Reviews'] = df.Reviews.dropna().apply(\n",
    "    lambda x: eval(x.replace('nan', '').replace('[,', \"['',\")))\n",
    "df['Reviews'] = df['Reviews'].dropna().apply(\n",
    "    lambda x: np.nan if len(x[0]) == 0 & len(x[1]) == 0 else x)"
   ]
  },
  {
   "cell_type": "markdown",
   "metadata": {},
   "source": [
    "Создадим новые признаки, reviews и date_1 date_2"
   ]
  },
  {
   "cell_type": "code",
   "execution_count": 31,
   "metadata": {
    "execution": {
     "iopub.execute_input": "2021-07-20T11:30:27.072235Z",
     "iopub.status.busy": "2021-07-20T11:30:27.071860Z",
     "iopub.status.idle": "2021-07-20T11:30:27.307048Z",
     "shell.execute_reply": "2021-07-20T11:30:27.306197Z",
     "shell.execute_reply.started": "2021-07-20T11:30:27.072147Z"
    }
   },
   "outputs": [],
   "source": [
    "df['date'] = df['Reviews'].dropna().apply(lambda x: x[1])\n",
    "df['date_1'] = df['date'].dropna().apply(lambda x: x[1] if len(x) == 2 else np.nan)\n",
    "df['date_2'] = df['date'].dropna().apply(lambda x: x[0] if len(x) > 0 else np.nan)\n",
    "df.drop('date', axis=1, inplace=True)"
   ]
  },
  {
   "cell_type": "markdown",
   "metadata": {},
   "source": [
    "Заменим пропуски в date_1 и date_2 на min и max дату соответственно. Максимальная разница количества дней между коментариями будет говорит о том, что отзывы практически не оставляют"
   ]
  },
  {
   "cell_type": "code",
   "execution_count": 32,
   "metadata": {
    "execution": {
     "iopub.execute_input": "2021-07-20T11:30:27.308837Z",
     "iopub.status.busy": "2021-07-20T11:30:27.308361Z",
     "iopub.status.idle": "2021-07-20T11:30:27.416522Z",
     "shell.execute_reply": "2021-07-20T11:30:27.415696Z",
     "shell.execute_reply.started": "2021-07-20T11:30:27.308791Z"
    }
   },
   "outputs": [],
   "source": [
    "df['date_1'] = pd.to_datetime(df['date_1'])\n",
    "df['date_2'] = pd.to_datetime(df['date_2'])\n",
    "\n",
    "df['date_1'].fillna(df['date_1'].min(), inplace=True)\n",
    "df['date_2'].fillna(df['date_2'].max(), inplace=True)"
   ]
  },
  {
   "cell_type": "markdown",
   "metadata": {},
   "source": [
    "Создадим признак разницы дней между последними двумя отзывами."
   ]
  },
  {
   "cell_type": "code",
   "execution_count": 33,
   "metadata": {
    "execution": {
     "iopub.execute_input": "2021-07-20T11:30:27.418235Z",
     "iopub.status.busy": "2021-07-20T11:30:27.417769Z",
     "iopub.status.idle": "2021-07-20T11:30:27.437285Z",
     "shell.execute_reply": "2021-07-20T11:30:27.435481Z",
     "shell.execute_reply.started": "2021-07-20T11:30:27.418192Z"
    }
   },
   "outputs": [
    {
     "data": {
      "text/plain": [
       "0        1240\n",
       "1        1323\n",
       "2        1300\n",
       "3        1322\n",
       "4        1258\n",
       "         ... \n",
       "49995    1312\n",
       "49996    1307\n",
       "49997    1720\n",
       "49998    1470\n",
       "49999    1997\n",
       "Name: days_to_today, Length: 50000, dtype: int64"
      ]
     },
     "execution_count": 33,
     "metadata": {},
     "output_type": "execute_result"
    }
   ],
   "source": [
    "df['rewiew_days'] = abs(df['date_2'] - df['date_1']).dt.days\n",
    "\n",
    "df['days_to_today'] = (datetime.now() - df['date_2']).dt.days\n",
    "df['days_to_today']"
   ]
  },
  {
   "cell_type": "markdown",
   "metadata": {},
   "source": [
    "Обработаем отзывы. Создадим признак количества последних коментариев (0-2)"
   ]
  },
  {
   "cell_type": "code",
   "execution_count": 34,
   "metadata": {
    "execution": {
     "iopub.execute_input": "2021-07-20T11:30:27.439437Z",
     "iopub.status.busy": "2021-07-20T11:30:27.439064Z",
     "iopub.status.idle": "2021-07-20T11:30:27.609320Z",
     "shell.execute_reply": "2021-07-20T11:30:27.608138Z",
     "shell.execute_reply.started": "2021-07-20T11:30:27.439377Z"
    }
   },
   "outputs": [],
   "source": [
    "df['Reviews'] = df['Reviews'].dropna().apply(lambda x: x[0])\n",
    "df['last_rewiew_counts'] = df['Reviews'].dropna().apply(\n",
    "    lambda x: 2 if len(x) == 2 else 1 if len(x) == 1 else 0)\n",
    "df.last_rewiew_counts.fillna(0, inplace=True)\n",
    "\n",
    "def len_rewiews(cell):\n",
    "    x = 0\n",
    "    for i in cell:\n",
    "        x += len(i)\n",
    "    return x\n",
    "\n",
    "df['len_rewiews'] = df['Reviews'].dropna().apply(len_rewiews)\n",
    "df['len_rewiews'].fillna(0, inplace=True)"
   ]
  },
  {
   "cell_type": "markdown",
   "metadata": {},
   "source": [
    "Удаляем текстовые столбцы для теста модели"
   ]
  },
  {
   "cell_type": "code",
   "execution_count": 35,
   "metadata": {
    "execution": {
     "iopub.execute_input": "2021-07-20T11:30:27.611324Z",
     "iopub.status.busy": "2021-07-20T11:30:27.610962Z",
     "iopub.status.idle": "2021-07-20T11:30:27.670900Z",
     "shell.execute_reply": "2021-07-20T11:30:27.669602Z",
     "shell.execute_reply.started": "2021-07-20T11:30:27.611262Z"
    }
   },
   "outputs": [],
   "source": [
    "df.drop(['Reviews', 'URL_TA', 'ID_TA', 'date_1','date_2'], inplace = True, axis = 1)"
   ]
  },
  {
   "cell_type": "code",
   "execution_count": 36,
   "metadata": {
    "execution": {
     "iopub.execute_input": "2021-07-20T11:30:27.672774Z",
     "iopub.status.busy": "2021-07-20T11:30:27.672498Z",
     "iopub.status.idle": "2021-07-20T11:30:27.732001Z",
     "shell.execute_reply": "2021-07-20T11:30:27.730912Z",
     "shell.execute_reply.started": "2021-07-20T11:30:27.672726Z"
    }
   },
   "outputs": [
    {
     "data": {
      "text/html": [
       "<div>\n",
       "<style scoped>\n",
       "    .dataframe tbody tr th:only-of-type {\n",
       "        vertical-align: middle;\n",
       "    }\n",
       "\n",
       "    .dataframe tbody tr th {\n",
       "        vertical-align: top;\n",
       "    }\n",
       "\n",
       "    .dataframe thead th {\n",
       "        text-align: right;\n",
       "    }\n",
       "</style>\n",
       "<table border=\"1\" class=\"dataframe\">\n",
       "  <thead>\n",
       "    <tr style=\"text-align: right;\">\n",
       "      <th></th>\n",
       "      <th>Restaurant_id</th>\n",
       "      <th>Cuisine_Style</th>\n",
       "      <th>Ranking</th>\n",
       "      <th>Number_of_Reviews</th>\n",
       "      <th>sample</th>\n",
       "      <th>Rating</th>\n",
       "      <th>City_Amsterdam</th>\n",
       "      <th>City_Athens</th>\n",
       "      <th>City_Barcelona</th>\n",
       "      <th>City_Berlin</th>\n",
       "      <th>...</th>\n",
       "      <th>Central European</th>\n",
       "      <th>Scandinavian</th>\n",
       "      <th>Peruvian</th>\n",
       "      <th>Italian</th>\n",
       "      <th>chain</th>\n",
       "      <th>positive</th>\n",
       "      <th>rewiew_days</th>\n",
       "      <th>days_to_today</th>\n",
       "      <th>last_rewiew_counts</th>\n",
       "      <th>len_rewiews</th>\n",
       "    </tr>\n",
       "  </thead>\n",
       "  <tbody>\n",
       "    <tr>\n",
       "      <th>0</th>\n",
       "      <td>id_0</td>\n",
       "      <td>2</td>\n",
       "      <td>12963.0</td>\n",
       "      <td>4</td>\n",
       "      <td>0</td>\n",
       "      <td>0.0</td>\n",
       "      <td>0</td>\n",
       "      <td>0</td>\n",
       "      <td>0</td>\n",
       "      <td>0</td>\n",
       "      <td>...</td>\n",
       "      <td>0</td>\n",
       "      <td>0</td>\n",
       "      <td>0</td>\n",
       "      <td>0</td>\n",
       "      <td>1.0</td>\n",
       "      <td>2</td>\n",
       "      <td>3757</td>\n",
       "      <td>1240</td>\n",
       "      <td>0.0</td>\n",
       "      <td>0.0</td>\n",
       "    </tr>\n",
       "    <tr>\n",
       "      <th>1</th>\n",
       "      <td>id_1</td>\n",
       "      <td>5</td>\n",
       "      <td>106.0</td>\n",
       "      <td>97</td>\n",
       "      <td>0</td>\n",
       "      <td>0.0</td>\n",
       "      <td>0</td>\n",
       "      <td>0</td>\n",
       "      <td>0</td>\n",
       "      <td>0</td>\n",
       "      <td>...</td>\n",
       "      <td>0</td>\n",
       "      <td>1</td>\n",
       "      <td>0</td>\n",
       "      <td>0</td>\n",
       "      <td>1.0</td>\n",
       "      <td>3</td>\n",
       "      <td>37</td>\n",
       "      <td>1323</td>\n",
       "      <td>2.0</td>\n",
       "      <td>42.0</td>\n",
       "    </tr>\n",
       "    <tr>\n",
       "      <th>2</th>\n",
       "      <td>id_2</td>\n",
       "      <td>1</td>\n",
       "      <td>810.0</td>\n",
       "      <td>28</td>\n",
       "      <td>0</td>\n",
       "      <td>0.0</td>\n",
       "      <td>0</td>\n",
       "      <td>0</td>\n",
       "      <td>0</td>\n",
       "      <td>0</td>\n",
       "      <td>...</td>\n",
       "      <td>0</td>\n",
       "      <td>0</td>\n",
       "      <td>0</td>\n",
       "      <td>0</td>\n",
       "      <td>1.0</td>\n",
       "      <td>2</td>\n",
       "      <td>22</td>\n",
       "      <td>1300</td>\n",
       "      <td>2.0</td>\n",
       "      <td>30.0</td>\n",
       "    </tr>\n",
       "    <tr>\n",
       "      <th>3</th>\n",
       "      <td>id_3</td>\n",
       "      <td>5</td>\n",
       "      <td>1669.0</td>\n",
       "      <td>202</td>\n",
       "      <td>0</td>\n",
       "      <td>0.0</td>\n",
       "      <td>0</td>\n",
       "      <td>0</td>\n",
       "      <td>0</td>\n",
       "      <td>0</td>\n",
       "      <td>...</td>\n",
       "      <td>0</td>\n",
       "      <td>0</td>\n",
       "      <td>0</td>\n",
       "      <td>1</td>\n",
       "      <td>1.0</td>\n",
       "      <td>3</td>\n",
       "      <td>14</td>\n",
       "      <td>1322</td>\n",
       "      <td>2.0</td>\n",
       "      <td>37.0</td>\n",
       "    </tr>\n",
       "    <tr>\n",
       "      <th>4</th>\n",
       "      <td>id_4</td>\n",
       "      <td>6</td>\n",
       "      <td>37.0</td>\n",
       "      <td>162</td>\n",
       "      <td>0</td>\n",
       "      <td>0.0</td>\n",
       "      <td>0</td>\n",
       "      <td>0</td>\n",
       "      <td>0</td>\n",
       "      <td>0</td>\n",
       "      <td>...</td>\n",
       "      <td>0</td>\n",
       "      <td>0</td>\n",
       "      <td>0</td>\n",
       "      <td>1</td>\n",
       "      <td>1.0</td>\n",
       "      <td>3</td>\n",
       "      <td>15</td>\n",
       "      <td>1258</td>\n",
       "      <td>2.0</td>\n",
       "      <td>49.0</td>\n",
       "    </tr>\n",
       "    <tr>\n",
       "      <th>...</th>\n",
       "      <td>...</td>\n",
       "      <td>...</td>\n",
       "      <td>...</td>\n",
       "      <td>...</td>\n",
       "      <td>...</td>\n",
       "      <td>...</td>\n",
       "      <td>...</td>\n",
       "      <td>...</td>\n",
       "      <td>...</td>\n",
       "      <td>...</td>\n",
       "      <td>...</td>\n",
       "      <td>...</td>\n",
       "      <td>...</td>\n",
       "      <td>...</td>\n",
       "      <td>...</td>\n",
       "      <td>...</td>\n",
       "      <td>...</td>\n",
       "      <td>...</td>\n",
       "      <td>...</td>\n",
       "      <td>...</td>\n",
       "      <td>...</td>\n",
       "    </tr>\n",
       "    <tr>\n",
       "      <th>49995</th>\n",
       "      <td>id_499</td>\n",
       "      <td>4</td>\n",
       "      <td>500.0</td>\n",
       "      <td>79</td>\n",
       "      <td>1</td>\n",
       "      <td>4.5</td>\n",
       "      <td>0</td>\n",
       "      <td>0</td>\n",
       "      <td>0</td>\n",
       "      <td>0</td>\n",
       "      <td>...</td>\n",
       "      <td>0</td>\n",
       "      <td>0</td>\n",
       "      <td>0</td>\n",
       "      <td>1</td>\n",
       "      <td>1.0</td>\n",
       "      <td>3</td>\n",
       "      <td>34</td>\n",
       "      <td>1312</td>\n",
       "      <td>2.0</td>\n",
       "      <td>64.0</td>\n",
       "    </tr>\n",
       "    <tr>\n",
       "      <th>49996</th>\n",
       "      <td>id_6340</td>\n",
       "      <td>5</td>\n",
       "      <td>6341.0</td>\n",
       "      <td>542</td>\n",
       "      <td>1</td>\n",
       "      <td>3.5</td>\n",
       "      <td>0</td>\n",
       "      <td>0</td>\n",
       "      <td>0</td>\n",
       "      <td>0</td>\n",
       "      <td>...</td>\n",
       "      <td>0</td>\n",
       "      <td>0</td>\n",
       "      <td>0</td>\n",
       "      <td>0</td>\n",
       "      <td>1.0</td>\n",
       "      <td>3</td>\n",
       "      <td>9</td>\n",
       "      <td>1307</td>\n",
       "      <td>2.0</td>\n",
       "      <td>63.0</td>\n",
       "    </tr>\n",
       "    <tr>\n",
       "      <th>49997</th>\n",
       "      <td>id_1649</td>\n",
       "      <td>2</td>\n",
       "      <td>1652.0</td>\n",
       "      <td>4</td>\n",
       "      <td>1</td>\n",
       "      <td>4.5</td>\n",
       "      <td>0</td>\n",
       "      <td>0</td>\n",
       "      <td>0</td>\n",
       "      <td>0</td>\n",
       "      <td>...</td>\n",
       "      <td>0</td>\n",
       "      <td>0</td>\n",
       "      <td>0</td>\n",
       "      <td>0</td>\n",
       "      <td>1.0</td>\n",
       "      <td>3</td>\n",
       "      <td>3127</td>\n",
       "      <td>1720</td>\n",
       "      <td>2.0</td>\n",
       "      <td>70.0</td>\n",
       "    </tr>\n",
       "    <tr>\n",
       "      <th>49998</th>\n",
       "      <td>id_640</td>\n",
       "      <td>5</td>\n",
       "      <td>641.0</td>\n",
       "      <td>70</td>\n",
       "      <td>1</td>\n",
       "      <td>4.0</td>\n",
       "      <td>0</td>\n",
       "      <td>0</td>\n",
       "      <td>0</td>\n",
       "      <td>0</td>\n",
       "      <td>...</td>\n",
       "      <td>1</td>\n",
       "      <td>0</td>\n",
       "      <td>0</td>\n",
       "      <td>0</td>\n",
       "      <td>1.0</td>\n",
       "      <td>2</td>\n",
       "      <td>23</td>\n",
       "      <td>1470</td>\n",
       "      <td>2.0</td>\n",
       "      <td>49.0</td>\n",
       "    </tr>\n",
       "    <tr>\n",
       "      <th>49999</th>\n",
       "      <td>id_4824</td>\n",
       "      <td>1</td>\n",
       "      <td>4827.0</td>\n",
       "      <td>260</td>\n",
       "      <td>1</td>\n",
       "      <td>3.0</td>\n",
       "      <td>0</td>\n",
       "      <td>0</td>\n",
       "      <td>0</td>\n",
       "      <td>0</td>\n",
       "      <td>...</td>\n",
       "      <td>0</td>\n",
       "      <td>0</td>\n",
       "      <td>0</td>\n",
       "      <td>0</td>\n",
       "      <td>1.0</td>\n",
       "      <td>3</td>\n",
       "      <td>1306</td>\n",
       "      <td>1997</td>\n",
       "      <td>2.0</td>\n",
       "      <td>23.0</td>\n",
       "    </tr>\n",
       "  </tbody>\n",
       "</table>\n",
       "<p>50000 rows × 136 columns</p>\n",
       "</div>"
      ],
      "text/plain": [
       "      Restaurant_id  Cuisine_Style  Ranking  Number_of_Reviews  sample  \\\n",
       "0              id_0              2  12963.0                  4       0   \n",
       "1              id_1              5    106.0                 97       0   \n",
       "2              id_2              1    810.0                 28       0   \n",
       "3              id_3              5   1669.0                202       0   \n",
       "4              id_4              6     37.0                162       0   \n",
       "...             ...            ...      ...                ...     ...   \n",
       "49995        id_499              4    500.0                 79       1   \n",
       "49996       id_6340              5   6341.0                542       1   \n",
       "49997       id_1649              2   1652.0                  4       1   \n",
       "49998        id_640              5    641.0                 70       1   \n",
       "49999       id_4824              1   4827.0                260       1   \n",
       "\n",
       "       Rating  City_Amsterdam  City_Athens  City_Barcelona  City_Berlin  ...  \\\n",
       "0         0.0               0            0               0            0  ...   \n",
       "1         0.0               0            0               0            0  ...   \n",
       "2         0.0               0            0               0            0  ...   \n",
       "3         0.0               0            0               0            0  ...   \n",
       "4         0.0               0            0               0            0  ...   \n",
       "...       ...             ...          ...             ...          ...  ...   \n",
       "49995     4.5               0            0               0            0  ...   \n",
       "49996     3.5               0            0               0            0  ...   \n",
       "49997     4.5               0            0               0            0  ...   \n",
       "49998     4.0               0            0               0            0  ...   \n",
       "49999     3.0               0            0               0            0  ...   \n",
       "\n",
       "       Central European  Scandinavian  Peruvian  Italian  chain  positive  \\\n",
       "0                     0             0         0        0    1.0         2   \n",
       "1                     0             1         0        0    1.0         3   \n",
       "2                     0             0         0        0    1.0         2   \n",
       "3                     0             0         0        1    1.0         3   \n",
       "4                     0             0         0        1    1.0         3   \n",
       "...                 ...           ...       ...      ...    ...       ...   \n",
       "49995                 0             0         0        1    1.0         3   \n",
       "49996                 0             0         0        0    1.0         3   \n",
       "49997                 0             0         0        0    1.0         3   \n",
       "49998                 1             0         0        0    1.0         2   \n",
       "49999                 0             0         0        0    1.0         3   \n",
       "\n",
       "       rewiew_days  days_to_today  last_rewiew_counts  len_rewiews  \n",
       "0             3757           1240                 0.0          0.0  \n",
       "1               37           1323                 2.0         42.0  \n",
       "2               22           1300                 2.0         30.0  \n",
       "3               14           1322                 2.0         37.0  \n",
       "4               15           1258                 2.0         49.0  \n",
       "...            ...            ...                 ...          ...  \n",
       "49995           34           1312                 2.0         64.0  \n",
       "49996            9           1307                 2.0         63.0  \n",
       "49997         3127           1720                 2.0         70.0  \n",
       "49998           23           1470                 2.0         49.0  \n",
       "49999         1306           1997                 2.0         23.0  \n",
       "\n",
       "[50000 rows x 136 columns]"
      ]
     },
     "execution_count": 36,
     "metadata": {},
     "output_type": "execute_result"
    }
   ],
   "source": [
    "df"
   ]
  },
  {
   "cell_type": "markdown",
   "metadata": {},
   "source": [
    "# Разбиваем датафрейм на части, необходимые для обучения и тестирования модели"
   ]
  },
  {
   "cell_type": "code",
   "execution_count": 37,
   "metadata": {
    "execution": {
     "iopub.execute_input": "2021-07-20T11:30:27.733997Z",
     "iopub.status.busy": "2021-07-20T11:30:27.733732Z",
     "iopub.status.idle": "2021-07-20T11:30:27.853022Z",
     "shell.execute_reply": "2021-07-20T11:30:27.851664Z",
     "shell.execute_reply.started": "2021-07-20T11:30:27.733949Z"
    }
   },
   "outputs": [],
   "source": [
    "# Теперь выделим тестовую часть\n",
    "train_data = df.query('sample == 1').drop(['sample'], axis=1)\n",
    "test_data = df.query('sample == 0').drop(['sample'], axis=1)\n",
    "test_data = test_data.drop(['Restaurant_id','Rating'], axis=1)\n",
    "\n",
    "y = train_data.Rating.values            # наш таргет\n",
    "X = train_data.drop(['Restaurant_id','Rating'], axis=1)\n",
    "\n",
    "# Воспользуемся специальной функцией train_test_split для разбивки тестовых данных\n",
    "# выделим 25% данных на валидацию (параметр test_size)\n",
    "X_train, X_test, y_train, y_test = train_test_split(X, y, test_size=0.25, random_state=RANDOM_SEED)"
   ]
  },
  {
   "cell_type": "code",
   "execution_count": 38,
   "metadata": {
    "execution": {
     "iopub.execute_input": "2021-07-20T11:30:27.855216Z",
     "iopub.status.busy": "2021-07-20T11:30:27.854900Z",
     "iopub.status.idle": "2021-07-20T11:30:27.860408Z",
     "shell.execute_reply": "2021-07-20T11:30:27.859513Z",
     "shell.execute_reply.started": "2021-07-20T11:30:27.855152Z"
    }
   },
   "outputs": [],
   "source": [
    "# Х - данные с информацией о ресторанах, у - целевая переменная (рейтинги ресторанов)\n",
    "#X = df.drop(['Restaurant_id', 'Rating'], axis = 1)\n",
    "#y = df['Rating']\n",
    "\n",
    "# Наборы данных с меткой \"train\" будут использоваться для обучения модели, \"test\" - для тестирования.\n",
    "# Для тестирования мы будем использовать 25% от исходного датасета.\n",
    "#X_train, X_test, y_train, y_test = train_test_split(X, y, test_size=0.25, random_state=RANDOM_SEED)"
   ]
  },
  {
   "cell_type": "markdown",
   "metadata": {},
   "source": [
    "# Создаём, обучаем и тестируем модель"
   ]
  },
  {
   "cell_type": "code",
   "execution_count": 39,
   "metadata": {
    "execution": {
     "iopub.execute_input": "2021-07-20T11:30:27.862508Z",
     "iopub.status.busy": "2021-07-20T11:30:27.861910Z",
     "iopub.status.idle": "2021-07-20T11:31:11.475782Z",
     "shell.execute_reply": "2021-07-20T11:31:11.474981Z",
     "shell.execute_reply.started": "2021-07-20T11:30:27.862186Z"
    }
   },
   "outputs": [
    {
     "name": "stdout",
     "output_type": "stream",
     "text": [
      "MAE: 0.18065\n"
     ]
    }
   ],
   "source": [
    "# Создаём модель\n",
    "regr = RandomForestRegressor(n_estimators=100)\n",
    "\n",
    "# Обучаем модель на тестовом наборе данных\n",
    "regr.fit(X_train, y_train)\n",
    "\n",
    "# Используем обученную модель для предсказания рейтинга ресторанов в тестовой выборке.\n",
    "# Предсказанные значения записываем в переменную y_pred\n",
    "y_pred = regr.predict(X_test)\n",
    "\n",
    "# # Округлим предсказанные значения до степени округления целевой переменной\n",
    "# y_pred = np.round(y_pred*2)/2\n",
    "\n",
    "def rating(prediction):\n",
    "        if prediction < 0.25:\n",
    "            return 0\n",
    "        elif 0.25 < prediction <= 0.75:\n",
    "            return 0.5\n",
    "        elif 0.75 < prediction <= 1.25:\n",
    "            return 1\n",
    "        elif 1.25 <prediction <= 1.75:\n",
    "            return 1.5\n",
    "        elif 1.75 < prediction <= 2.25:\n",
    "            return 2\n",
    "        elif 2.25 < prediction <= 2.75:\n",
    "            return 2.5\n",
    "        elif 2.75 < prediction <= 3.25:\n",
    "            return 3\n",
    "        elif 3.25 < prediction <= 3.75:\n",
    "            return 3.5\n",
    "        elif 3.75 < prediction <= 4.25:\n",
    "            return 4\n",
    "        elif 4.25 < prediction <= 4.75:\n",
    "            return 4.5\n",
    "        else:\n",
    "            return 5\n",
    "        \n",
    "for i in range(y_pred.size):\n",
    "        y_pred[i]=rating(y_pred[i])\n",
    "\n",
    "# Сравниваем предсказанные значения (y_pred) с реальными (y_test), и смотрим насколько они в среднем отличаются\n",
    "# Метрика называется Mean Absolute Error (MAE) и показывает среднее отклонение предсказанных значений от фактических.\n",
    "print('MAE:', metrics.mean_absolute_error(y_test, y_pred))"
   ]
  },
  {
   "cell_type": "code",
   "execution_count": 40,
   "metadata": {
    "execution": {
     "iopub.execute_input": "2021-07-20T11:31:11.477804Z",
     "iopub.status.busy": "2021-07-20T11:31:11.477507Z",
     "iopub.status.idle": "2021-07-20T11:31:11.916698Z",
     "shell.execute_reply": "2021-07-20T11:31:11.915546Z",
     "shell.execute_reply.started": "2021-07-20T11:31:11.477726Z"
    }
   },
   "outputs": [
    {
     "data": {
      "text/plain": [
       "<matplotlib.axes._subplots.AxesSubplot at 0x7f93313aa908>"
      ]
     },
     "execution_count": 40,
     "metadata": {},
     "output_type": "execute_result"
    },
    {
     "data": {
      "image/png": "[encoded data removed]",
      "text/plain": [
       "<Figure size 720x720 with 1 Axes>"
      ]
     },
     "metadata": {
      "needs_background": "light"
     },
     "output_type": "display_data"
    }
   ],
   "source": [
    "# в RandomForestRegressor есть возможность вывести самые важные признаки для модели\n",
    "plt.rcParams['figure.figsize'] = (10,10)\n",
    "feat_importances = pd.Series(regr.feature_importances_, index=X.columns)\n",
    "feat_importances.nlargest(30).plot(kind='barh')"
   ]
  },
  {
   "cell_type": "markdown",
   "metadata": {},
   "source": [
    "# Submission\n",
    "Если все устраевает - готовим Submission на кагл"
   ]
  },
  {
   "cell_type": "code",
   "execution_count": 41,
   "metadata": {
    "execution": {
     "iopub.execute_input": "2021-07-20T11:31:11.918953Z",
     "iopub.status.busy": "2021-07-20T11:31:11.918429Z",
     "iopub.status.idle": "2021-07-20T11:31:11.965084Z",
     "shell.execute_reply": "2021-07-20T11:31:11.964444Z",
     "shell.execute_reply.started": "2021-07-20T11:31:11.918888Z"
    }
   },
   "outputs": [
    {
     "data": {
      "text/html": [
       "<div>\n",
       "<style scoped>\n",
       "    .dataframe tbody tr th:only-of-type {\n",
       "        vertical-align: middle;\n",
       "    }\n",
       "\n",
       "    .dataframe tbody tr th {\n",
       "        vertical-align: top;\n",
       "    }\n",
       "\n",
       "    .dataframe thead th {\n",
       "        text-align: right;\n",
       "    }\n",
       "</style>\n",
       "<table border=\"1\" class=\"dataframe\">\n",
       "  <thead>\n",
       "    <tr style=\"text-align: right;\">\n",
       "      <th></th>\n",
       "      <th>Cuisine_Style</th>\n",
       "      <th>Ranking</th>\n",
       "      <th>Number_of_Reviews</th>\n",
       "      <th>City_Amsterdam</th>\n",
       "      <th>City_Athens</th>\n",
       "      <th>City_Barcelona</th>\n",
       "      <th>City_Berlin</th>\n",
       "      <th>City_Bratislava</th>\n",
       "      <th>City_Brussels</th>\n",
       "      <th>City_Budapest</th>\n",
       "      <th>...</th>\n",
       "      <th>Central European</th>\n",
       "      <th>Scandinavian</th>\n",
       "      <th>Peruvian</th>\n",
       "      <th>Italian</th>\n",
       "      <th>chain</th>\n",
       "      <th>positive</th>\n",
       "      <th>rewiew_days</th>\n",
       "      <th>days_to_today</th>\n",
       "      <th>last_rewiew_counts</th>\n",
       "      <th>len_rewiews</th>\n",
       "    </tr>\n",
       "  </thead>\n",
       "  <tbody>\n",
       "    <tr>\n",
       "      <th>1731</th>\n",
       "      <td>8</td>\n",
       "      <td>6837.0</td>\n",
       "      <td>73</td>\n",
       "      <td>0</td>\n",
       "      <td>0</td>\n",
       "      <td>0</td>\n",
       "      <td>0</td>\n",
       "      <td>0</td>\n",
       "      <td>0</td>\n",
       "      <td>0</td>\n",
       "      <td>...</td>\n",
       "      <td>0</td>\n",
       "      <td>0</td>\n",
       "      <td>0</td>\n",
       "      <td>0</td>\n",
       "      <td>1.0</td>\n",
       "      <td>2</td>\n",
       "      <td>6</td>\n",
       "      <td>1295</td>\n",
       "      <td>2.0</td>\n",
       "      <td>76.0</td>\n",
       "    </tr>\n",
       "    <tr>\n",
       "      <th>4239</th>\n",
       "      <td>4</td>\n",
       "      <td>3838.0</td>\n",
       "      <td>10</td>\n",
       "      <td>0</td>\n",
       "      <td>0</td>\n",
       "      <td>0</td>\n",
       "      <td>0</td>\n",
       "      <td>0</td>\n",
       "      <td>0</td>\n",
       "      <td>0</td>\n",
       "      <td>...</td>\n",
       "      <td>0</td>\n",
       "      <td>0</td>\n",
       "      <td>0</td>\n",
       "      <td>1</td>\n",
       "      <td>1.0</td>\n",
       "      <td>3</td>\n",
       "      <td>1</td>\n",
       "      <td>1291</td>\n",
       "      <td>2.0</td>\n",
       "      <td>71.0</td>\n",
       "    </tr>\n",
       "    <tr>\n",
       "      <th>4509</th>\n",
       "      <td>1</td>\n",
       "      <td>4258.0</td>\n",
       "      <td>26</td>\n",
       "      <td>0</td>\n",
       "      <td>0</td>\n",
       "      <td>0</td>\n",
       "      <td>0</td>\n",
       "      <td>0</td>\n",
       "      <td>0</td>\n",
       "      <td>0</td>\n",
       "      <td>...</td>\n",
       "      <td>0</td>\n",
       "      <td>0</td>\n",
       "      <td>0</td>\n",
       "      <td>1</td>\n",
       "      <td>1.0</td>\n",
       "      <td>3</td>\n",
       "      <td>228</td>\n",
       "      <td>2342</td>\n",
       "      <td>2.0</td>\n",
       "      <td>28.0</td>\n",
       "    </tr>\n",
       "    <tr>\n",
       "      <th>5394</th>\n",
       "      <td>4</td>\n",
       "      <td>3245.0</td>\n",
       "      <td>1</td>\n",
       "      <td>1</td>\n",
       "      <td>0</td>\n",
       "      <td>0</td>\n",
       "      <td>0</td>\n",
       "      <td>0</td>\n",
       "      <td>0</td>\n",
       "      <td>0</td>\n",
       "      <td>...</td>\n",
       "      <td>0</td>\n",
       "      <td>0</td>\n",
       "      <td>0</td>\n",
       "      <td>0</td>\n",
       "      <td>1.0</td>\n",
       "      <td>2</td>\n",
       "      <td>3498</td>\n",
       "      <td>1499</td>\n",
       "      <td>1.0</td>\n",
       "      <td>44.0</td>\n",
       "    </tr>\n",
       "    <tr>\n",
       "      <th>7481</th>\n",
       "      <td>3</td>\n",
       "      <td>5814.0</td>\n",
       "      <td>159</td>\n",
       "      <td>0</td>\n",
       "      <td>0</td>\n",
       "      <td>0</td>\n",
       "      <td>0</td>\n",
       "      <td>0</td>\n",
       "      <td>0</td>\n",
       "      <td>0</td>\n",
       "      <td>...</td>\n",
       "      <td>0</td>\n",
       "      <td>0</td>\n",
       "      <td>0</td>\n",
       "      <td>1</td>\n",
       "      <td>1.0</td>\n",
       "      <td>2</td>\n",
       "      <td>2</td>\n",
       "      <td>1339</td>\n",
       "      <td>2.0</td>\n",
       "      <td>59.0</td>\n",
       "    </tr>\n",
       "    <tr>\n",
       "      <th>7074</th>\n",
       "      <td>3</td>\n",
       "      <td>256.0</td>\n",
       "      <td>106</td>\n",
       "      <td>0</td>\n",
       "      <td>0</td>\n",
       "      <td>0</td>\n",
       "      <td>0</td>\n",
       "      <td>0</td>\n",
       "      <td>0</td>\n",
       "      <td>0</td>\n",
       "      <td>...</td>\n",
       "      <td>0</td>\n",
       "      <td>0</td>\n",
       "      <td>0</td>\n",
       "      <td>0</td>\n",
       "      <td>1.0</td>\n",
       "      <td>3</td>\n",
       "      <td>241</td>\n",
       "      <td>1644</td>\n",
       "      <td>2.0</td>\n",
       "      <td>44.0</td>\n",
       "    </tr>\n",
       "    <tr>\n",
       "      <th>2585</th>\n",
       "      <td>4</td>\n",
       "      <td>801.0</td>\n",
       "      <td>32</td>\n",
       "      <td>0</td>\n",
       "      <td>0</td>\n",
       "      <td>0</td>\n",
       "      <td>0</td>\n",
       "      <td>0</td>\n",
       "      <td>0</td>\n",
       "      <td>0</td>\n",
       "      <td>...</td>\n",
       "      <td>0</td>\n",
       "      <td>0</td>\n",
       "      <td>0</td>\n",
       "      <td>0</td>\n",
       "      <td>1.0</td>\n",
       "      <td>3</td>\n",
       "      <td>134</td>\n",
       "      <td>1294</td>\n",
       "      <td>2.0</td>\n",
       "      <td>35.0</td>\n",
       "    </tr>\n",
       "    <tr>\n",
       "      <th>5242</th>\n",
       "      <td>5</td>\n",
       "      <td>238.0</td>\n",
       "      <td>82</td>\n",
       "      <td>0</td>\n",
       "      <td>0</td>\n",
       "      <td>0</td>\n",
       "      <td>0</td>\n",
       "      <td>0</td>\n",
       "      <td>0</td>\n",
       "      <td>0</td>\n",
       "      <td>...</td>\n",
       "      <td>0</td>\n",
       "      <td>0</td>\n",
       "      <td>0</td>\n",
       "      <td>0</td>\n",
       "      <td>1.0</td>\n",
       "      <td>2</td>\n",
       "      <td>22</td>\n",
       "      <td>1604</td>\n",
       "      <td>2.0</td>\n",
       "      <td>57.0</td>\n",
       "    </tr>\n",
       "    <tr>\n",
       "      <th>4210</th>\n",
       "      <td>3</td>\n",
       "      <td>5004.0</td>\n",
       "      <td>7</td>\n",
       "      <td>0</td>\n",
       "      <td>0</td>\n",
       "      <td>0</td>\n",
       "      <td>0</td>\n",
       "      <td>0</td>\n",
       "      <td>0</td>\n",
       "      <td>0</td>\n",
       "      <td>...</td>\n",
       "      <td>0</td>\n",
       "      <td>0</td>\n",
       "      <td>0</td>\n",
       "      <td>0</td>\n",
       "      <td>0.0</td>\n",
       "      <td>3</td>\n",
       "      <td>3535</td>\n",
       "      <td>1462</td>\n",
       "      <td>1.0</td>\n",
       "      <td>20.0</td>\n",
       "    </tr>\n",
       "    <tr>\n",
       "      <th>5031</th>\n",
       "      <td>1</td>\n",
       "      <td>5607.0</td>\n",
       "      <td>6</td>\n",
       "      <td>0</td>\n",
       "      <td>0</td>\n",
       "      <td>0</td>\n",
       "      <td>0</td>\n",
       "      <td>0</td>\n",
       "      <td>0</td>\n",
       "      <td>0</td>\n",
       "      <td>...</td>\n",
       "      <td>0</td>\n",
       "      <td>0</td>\n",
       "      <td>0</td>\n",
       "      <td>0</td>\n",
       "      <td>1.0</td>\n",
       "      <td>2</td>\n",
       "      <td>3757</td>\n",
       "      <td>1240</td>\n",
       "      <td>0.0</td>\n",
       "      <td>0.0</td>\n",
       "    </tr>\n",
       "  </tbody>\n",
       "</table>\n",
       "<p>10 rows × 133 columns</p>\n",
       "</div>"
      ],
      "text/plain": [
       "      Cuisine_Style  Ranking  Number_of_Reviews  City_Amsterdam  City_Athens  \\\n",
       "1731              8   6837.0                 73               0            0   \n",
       "4239              4   3838.0                 10               0            0   \n",
       "4509              1   4258.0                 26               0            0   \n",
       "5394              4   3245.0                  1               1            0   \n",
       "7481              3   5814.0                159               0            0   \n",
       "7074              3    256.0                106               0            0   \n",
       "2585              4    801.0                 32               0            0   \n",
       "5242              5    238.0                 82               0            0   \n",
       "4210              3   5004.0                  7               0            0   \n",
       "5031              1   5607.0                  6               0            0   \n",
       "\n",
       "      City_Barcelona  City_Berlin  City_Bratislava  City_Brussels  \\\n",
       "1731               0            0                0              0   \n",
       "4239               0            0                0              0   \n",
       "4509               0            0                0              0   \n",
       "5394               0            0                0              0   \n",
       "7481               0            0                0              0   \n",
       "7074               0            0                0              0   \n",
       "2585               0            0                0              0   \n",
       "5242               0            0                0              0   \n",
       "4210               0            0                0              0   \n",
       "5031               0            0                0              0   \n",
       "\n",
       "      City_Budapest  ...  Central European  Scandinavian  Peruvian  Italian  \\\n",
       "1731              0  ...                 0             0         0        0   \n",
       "4239              0  ...                 0             0         0        1   \n",
       "4509              0  ...                 0             0         0        1   \n",
       "5394              0  ...                 0             0         0        0   \n",
       "7481              0  ...                 0             0         0        1   \n",
       "7074              0  ...                 0             0         0        0   \n",
       "2585              0  ...                 0             0         0        0   \n",
       "5242              0  ...                 0             0         0        0   \n",
       "4210              0  ...                 0             0         0        0   \n",
       "5031              0  ...                 0             0         0        0   \n",
       "\n",
       "      chain  positive  rewiew_days  days_to_today  last_rewiew_counts  \\\n",
       "1731    1.0         2            6           1295                 2.0   \n",
       "4239    1.0         3            1           1291                 2.0   \n",
       "4509    1.0         3          228           2342                 2.0   \n",
       "5394    1.0         2         3498           1499                 1.0   \n",
       "7481    1.0         2            2           1339                 2.0   \n",
       "7074    1.0         3          241           1644                 2.0   \n",
       "2585    1.0         3          134           1294                 2.0   \n",
       "5242    1.0         2           22           1604                 2.0   \n",
       "4210    0.0         3         3535           1462                 1.0   \n",
       "5031    1.0         2         3757           1240                 0.0   \n",
       "\n",
       "      len_rewiews  \n",
       "1731         76.0  \n",
       "4239         71.0  \n",
       "4509         28.0  \n",
       "5394         44.0  \n",
       "7481         59.0  \n",
       "7074         44.0  \n",
       "2585         35.0  \n",
       "5242         57.0  \n",
       "4210         20.0  \n",
       "5031          0.0  \n",
       "\n",
       "[10 rows x 133 columns]"
      ]
     },
     "execution_count": 41,
     "metadata": {},
     "output_type": "execute_result"
    }
   ],
   "source": [
    "test_data.sample(10)"
   ]
  },
  {
   "cell_type": "code",
   "execution_count": 42,
   "metadata": {
    "execution": {
     "iopub.execute_input": "2021-07-20T11:31:11.966633Z",
     "iopub.status.busy": "2021-07-20T11:31:11.966240Z",
     "iopub.status.idle": "2021-07-20T11:31:12.244907Z",
     "shell.execute_reply": "2021-07-20T11:31:12.244109Z",
     "shell.execute_reply.started": "2021-07-20T11:31:11.966582Z"
    }
   },
   "outputs": [],
   "source": [
    "predict_submission = regr.predict(test_data)"
   ]
  },
  {
   "cell_type": "code",
   "execution_count": 43,
   "metadata": {
    "execution": {
     "iopub.execute_input": "2021-07-20T11:31:12.246913Z",
     "iopub.status.busy": "2021-07-20T11:31:12.246355Z",
     "iopub.status.idle": "2021-07-20T11:31:12.254104Z",
     "shell.execute_reply": "2021-07-20T11:31:12.253008Z",
     "shell.execute_reply.started": "2021-07-20T11:31:12.246841Z"
    }
   },
   "outputs": [
    {
     "data": {
      "text/plain": [
       "array([3.025, 4.275, 4.39 , ..., 3.025, 4.485, 4.305])"
      ]
     },
     "execution_count": 43,
     "metadata": {},
     "output_type": "execute_result"
    }
   ],
   "source": [
    "predict_submission"
   ]
  },
  {
   "cell_type": "code",
   "execution_count": 44,
   "metadata": {
    "execution": {
     "iopub.execute_input": "2021-07-20T11:31:12.256113Z",
     "iopub.status.busy": "2021-07-20T11:31:12.255715Z",
     "iopub.status.idle": "2021-07-20T11:31:12.770420Z",
     "shell.execute_reply": "2021-07-20T11:31:12.769454Z",
     "shell.execute_reply.started": "2021-07-20T11:31:12.256040Z"
    }
   },
   "outputs": [
    {
     "data": {
      "text/html": [
       "<div>\n",
       "<style scoped>\n",
       "    .dataframe tbody tr th:only-of-type {\n",
       "        vertical-align: middle;\n",
       "    }\n",
       "\n",
       "    .dataframe tbody tr th {\n",
       "        vertical-align: top;\n",
       "    }\n",
       "\n",
       "    .dataframe thead th {\n",
       "        text-align: right;\n",
       "    }\n",
       "</style>\n",
       "<table border=\"1\" class=\"dataframe\">\n",
       "  <thead>\n",
       "    <tr style=\"text-align: right;\">\n",
       "      <th></th>\n",
       "      <th>Restaurant_id</th>\n",
       "      <th>Rating</th>\n",
       "    </tr>\n",
       "  </thead>\n",
       "  <tbody>\n",
       "    <tr>\n",
       "      <th>0</th>\n",
       "      <td>id_0</td>\n",
       "      <td>3.025</td>\n",
       "    </tr>\n",
       "    <tr>\n",
       "      <th>1</th>\n",
       "      <td>id_1</td>\n",
       "      <td>4.275</td>\n",
       "    </tr>\n",
       "    <tr>\n",
       "      <th>2</th>\n",
       "      <td>id_2</td>\n",
       "      <td>4.390</td>\n",
       "    </tr>\n",
       "    <tr>\n",
       "      <th>3</th>\n",
       "      <td>id_3</td>\n",
       "      <td>4.355</td>\n",
       "    </tr>\n",
       "    <tr>\n",
       "      <th>4</th>\n",
       "      <td>id_4</td>\n",
       "      <td>4.480</td>\n",
       "    </tr>\n",
       "    <tr>\n",
       "      <th>5</th>\n",
       "      <td>id_5</td>\n",
       "      <td>4.355</td>\n",
       "    </tr>\n",
       "    <tr>\n",
       "      <th>6</th>\n",
       "      <td>id_6</td>\n",
       "      <td>2.830</td>\n",
       "    </tr>\n",
       "    <tr>\n",
       "      <th>7</th>\n",
       "      <td>id_7</td>\n",
       "      <td>2.855</td>\n",
       "    </tr>\n",
       "    <tr>\n",
       "      <th>8</th>\n",
       "      <td>id_8</td>\n",
       "      <td>3.990</td>\n",
       "    </tr>\n",
       "    <tr>\n",
       "      <th>9</th>\n",
       "      <td>id_9</td>\n",
       "      <td>4.545</td>\n",
       "    </tr>\n",
       "  </tbody>\n",
       "</table>\n",
       "</div>"
      ],
      "text/plain": [
       "  Restaurant_id  Rating\n",
       "0          id_0   3.025\n",
       "1          id_1   4.275\n",
       "2          id_2   4.390\n",
       "3          id_3   4.355\n",
       "4          id_4   4.480\n",
       "5          id_5   4.355\n",
       "6          id_6   2.830\n",
       "7          id_7   2.855\n",
       "8          id_8   3.990\n",
       "9          id_9   4.545"
      ]
     },
     "execution_count": 44,
     "metadata": {},
     "output_type": "execute_result"
    }
   ],
   "source": [
    "sample_submission['Rating'] = predict_submission\n",
    "sample_submission.to_csv('submission.csv', index=False)\n",
    "sample_submission.head(10)"
   ]
  },
  {
   "cell_type": "markdown",
   "metadata": {},
   "source": [
    "# What's next?\n",
    "Или что делать, чтоб улучшить результат:\n",
    "* Обработать оставшиеся признаки в понятный для машины формат\n",
    "* Посмотреть, что еще можно извлечь из признаков\n",
    "* Сгенерировать новые признаки\n",
    "* Подгрузить дополнительные данные, например: по населению или благосостоянию городов\n",
    "* Подобрать состав признаков\n",
    "\n",
    "В общем, процесс творческий и весьма увлекательный! Удачи в соревновании!\n"
   ]
  }
 ],
 "metadata": {
  "kernelspec": {
   "display_name": "Python 3",
   "language": "python",
   "name": "python3"
  },
  "language_info": {
   "codemirror_mode": {
    "name": "ipython",
    "version": 3
   },
   "file_extension": ".py",
   "mimetype": "text/x-python",
   "name": "python",
   "nbconvert_exporter": "python",
   "pygments_lexer": "ipython3",
   "version": "3.6.6"
  }
 },
 "nbformat": 4,
 "nbformat_minor": 4
}
