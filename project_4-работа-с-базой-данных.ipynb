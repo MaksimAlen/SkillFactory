{
 "cells": [
  {
   "cell_type": "code",
   "execution_count": 78,
   "metadata": {
    "scrolled": false
   },
   "outputs": [
    {
     "data": {
      "text/html": [
       "<div>\n",
       "<style scoped>\n",
       "    .dataframe tbody tr th:only-of-type {\n",
       "        vertical-align: middle;\n",
       "    }\n",
       "\n",
       "    .dataframe tbody tr th {\n",
       "        vertical-align: top;\n",
       "    }\n",
       "\n",
       "    .dataframe thead th {\n",
       "        text-align: right;\n",
       "    }\n",
       "</style>\n",
       "<table border=\"1\" class=\"dataframe\">\n",
       "  <thead>\n",
       "    <tr style=\"text-align: right;\">\n",
       "      <th></th>\n",
       "      <th>flight_id</th>\n",
       "      <th>flight_no</th>\n",
       "      <th>scheduled_departure</th>\n",
       "      <th>scheduled_arrival</th>\n",
       "      <th>departure_airport</th>\n",
       "      <th>arrival_airport</th>\n",
       "      <th>status</th>\n",
       "      <th>aircraft_code</th>\n",
       "      <th>actual_departure</th>\n",
       "      <th>dayofweek</th>\n",
       "      <th>actual_arrival</th>\n",
       "      <th>flight_id.1</th>\n",
       "      <th>revenue</th>\n",
       "      <th>aircraft_code.1</th>\n",
       "      <th>model</th>\n",
       "      <th>flight_time</th>\n",
       "      <th>fly_income</th>\n",
       "    </tr>\n",
       "  </thead>\n",
       "  <tbody>\n",
       "    <tr>\n",
       "      <th>162</th>\n",
       "      <td>136865</td>\n",
       "      <td>PG0480</td>\n",
       "      <td>2016-12-11T09:25:00Z</td>\n",
       "      <td>2016-12-11T10:15:00Z</td>\n",
       "      <td>AAQ</td>\n",
       "      <td>EGO</td>\n",
       "      <td>Arrived</td>\n",
       "      <td>SU9</td>\n",
       "      <td>2016-12-11 09:29:00+00:00</td>\n",
       "      <td>6</td>\n",
       "      <td>2016-12-11 10:19:00+00:00</td>\n",
       "      <td>136865.0</td>\n",
       "      <td>695400.0</td>\n",
       "      <td>SU9</td>\n",
       "      <td>Sukhoi Superjet-100</td>\n",
       "      <td>3000.0</td>\n",
       "      <td>231.800000</td>\n",
       "    </tr>\n",
       "    <tr>\n",
       "      <th>82</th>\n",
       "      <td>136366</td>\n",
       "      <td>PG0252</td>\n",
       "      <td>2017-01-11T10:05:00Z</td>\n",
       "      <td>2017-01-11T11:45:00Z</td>\n",
       "      <td>AAQ</td>\n",
       "      <td>SVO</td>\n",
       "      <td>Arrived</td>\n",
       "      <td>733</td>\n",
       "      <td>2017-01-11 10:08:00+00:00</td>\n",
       "      <td>2</td>\n",
       "      <td>2017-01-11 11:47:00+00:00</td>\n",
       "      <td>136366.0</td>\n",
       "      <td>1527400.0</td>\n",
       "      <td>733</td>\n",
       "      <td>Boeing 737-300</td>\n",
       "      <td>5940.0</td>\n",
       "      <td>257.138047</td>\n",
       "    </tr>\n",
       "    <tr>\n",
       "      <th>87</th>\n",
       "      <td>136252</td>\n",
       "      <td>PG0252</td>\n",
       "      <td>2016-12-20T10:05:00Z</td>\n",
       "      <td>2016-12-20T11:45:00Z</td>\n",
       "      <td>AAQ</td>\n",
       "      <td>SVO</td>\n",
       "      <td>Arrived</td>\n",
       "      <td>733</td>\n",
       "      <td>2016-12-20 10:05:00+00:00</td>\n",
       "      <td>1</td>\n",
       "      <td>2016-12-20 11:46:00+00:00</td>\n",
       "      <td>136252.0</td>\n",
       "      <td>1517600.0</td>\n",
       "      <td>733</td>\n",
       "      <td>Boeing 737-300</td>\n",
       "      <td>6060.0</td>\n",
       "      <td>250.429043</td>\n",
       "    </tr>\n",
       "  </tbody>\n",
       "</table>\n",
       "</div>"
      ],
      "text/plain": [
       "     flight_id flight_no   scheduled_departure     scheduled_arrival  \\\n",
       "162     136865    PG0480  2016-12-11T09:25:00Z  2016-12-11T10:15:00Z   \n",
       "82      136366    PG0252  2017-01-11T10:05:00Z  2017-01-11T11:45:00Z   \n",
       "87      136252    PG0252  2016-12-20T10:05:00Z  2016-12-20T11:45:00Z   \n",
       "\n",
       "    departure_airport arrival_airport   status aircraft_code  \\\n",
       "162               AAQ             EGO  Arrived           SU9   \n",
       "82                AAQ             SVO  Arrived           733   \n",
       "87                AAQ             SVO  Arrived           733   \n",
       "\n",
       "             actual_departure  dayofweek            actual_arrival  \\\n",
       "162 2016-12-11 09:29:00+00:00          6 2016-12-11 10:19:00+00:00   \n",
       "82  2017-01-11 10:08:00+00:00          2 2017-01-11 11:47:00+00:00   \n",
       "87  2016-12-20 10:05:00+00:00          1 2016-12-20 11:46:00+00:00   \n",
       "\n",
       "     flight_id.1    revenue aircraft_code.1                model  flight_time  \\\n",
       "162     136865.0   695400.0             SU9  Sukhoi Superjet-100       3000.0   \n",
       "82      136366.0  1527400.0             733       Boeing 737-300       5940.0   \n",
       "87      136252.0  1517600.0             733       Boeing 737-300       6060.0   \n",
       "\n",
       "     fly_income  \n",
       "162  231.800000  \n",
       "82   257.138047  \n",
       "87   250.429043  "
      ]
     },
     "execution_count": 78,
     "metadata": {},
     "output_type": "execute_result"
    }
   ],
   "source": [
    "import pandas as pd\n",
    "import seaborn as sns\n",
    "from datetime import datetime as dt, timedelta\n",
    "df = pd.read_csv('query.csv')\n",
    "# заменим пропуски данных о выручке нулями\n",
    "df.revenue = df.revenue.fillna(0)\n",
    "# переведём в формат даты время фактического вылета и прилёта\n",
    "df.actual_departure=pd.to_datetime(df.actual_departure,format='%Y/%m/%d')\n",
    "df.actual_arrival=pd.to_datetime(df.actual_arrival,format='%Y/%m/%d')\n",
    "# рассчитаем время в полёте\n",
    "df.flight_time = df.actual_arrival - df.actual_departure\n",
    "# переведём время полёта в секунды\n",
    "df.flight_time = df.flight_time.apply(lambda x: x.total_seconds())\n",
    "# добавим признак получения выручки за секунду полёта\n",
    "df.insert(15, \"fly_income\", df.revenue/df.flight_time)\n",
    "df.insert(9, \"dayofweek\", df.actual_departure.dt.dayofweek)\n",
    "\n",
    "df.sample(3)"
   ]
  },
  {
   "cell_type": "code",
   "execution_count": 81,
   "metadata": {
    "scrolled": true
   },
   "outputs": [
    {
     "data": {
      "text/html": [
       "<div>\n",
       "<style scoped>\n",
       "    .dataframe tbody tr th:only-of-type {\n",
       "        vertical-align: middle;\n",
       "    }\n",
       "\n",
       "    .dataframe tbody tr th {\n",
       "        vertical-align: top;\n",
       "    }\n",
       "\n",
       "    .dataframe thead th {\n",
       "        text-align: right;\n",
       "    }\n",
       "</style>\n",
       "<table border=\"1\" class=\"dataframe\">\n",
       "  <thead>\n",
       "    <tr style=\"text-align: right;\">\n",
       "      <th></th>\n",
       "      <th>flight_id</th>\n",
       "      <th>flight_no</th>\n",
       "      <th>scheduled_departure</th>\n",
       "      <th>scheduled_arrival</th>\n",
       "      <th>departure_airport</th>\n",
       "      <th>arrival_airport</th>\n",
       "      <th>status</th>\n",
       "      <th>aircraft_code</th>\n",
       "      <th>actual_departure</th>\n",
       "      <th>dayofweek</th>\n",
       "      <th>actual_arrival</th>\n",
       "      <th>flight_id.1</th>\n",
       "      <th>revenue</th>\n",
       "      <th>aircraft_code.1</th>\n",
       "      <th>model</th>\n",
       "      <th>flight_time</th>\n",
       "      <th>fly_income</th>\n",
       "    </tr>\n",
       "  </thead>\n",
       "  <tbody>\n",
       "    <tr>\n",
       "      <th>5</th>\n",
       "      <td>136564</td>\n",
       "      <td>PG0194</td>\n",
       "      <td>2016-12-27T06:10:00Z</td>\n",
       "      <td>2016-12-27T11:15:00Z</td>\n",
       "      <td>AAQ</td>\n",
       "      <td>NOZ</td>\n",
       "      <td>Arrived</td>\n",
       "      <td>733</td>\n",
       "      <td>2016-12-27 06:16:00+00:00</td>\n",
       "      <td>1</td>\n",
       "      <td>2016-12-27 11:21:00+00:00</td>\n",
       "      <td>NaN</td>\n",
       "      <td>0.0</td>\n",
       "      <td>733</td>\n",
       "      <td>Boeing 737-300</td>\n",
       "      <td>18300.0</td>\n",
       "      <td>0.0</td>\n",
       "    </tr>\n",
       "    <tr>\n",
       "      <th>7</th>\n",
       "      <td>136540</td>\n",
       "      <td>PG0194</td>\n",
       "      <td>2017-01-17T06:10:00Z</td>\n",
       "      <td>2017-01-17T11:15:00Z</td>\n",
       "      <td>AAQ</td>\n",
       "      <td>NOZ</td>\n",
       "      <td>Arrived</td>\n",
       "      <td>733</td>\n",
       "      <td>2017-01-17 06:14:00+00:00</td>\n",
       "      <td>1</td>\n",
       "      <td>2017-01-17 11:21:00+00:00</td>\n",
       "      <td>NaN</td>\n",
       "      <td>0.0</td>\n",
       "      <td>733</td>\n",
       "      <td>Boeing 737-300</td>\n",
       "      <td>18420.0</td>\n",
       "      <td>0.0</td>\n",
       "    </tr>\n",
       "    <tr>\n",
       "      <th>12</th>\n",
       "      <td>136514</td>\n",
       "      <td>PG0194</td>\n",
       "      <td>2017-02-07T06:10:00Z</td>\n",
       "      <td>2017-02-07T11:15:00Z</td>\n",
       "      <td>AAQ</td>\n",
       "      <td>NOZ</td>\n",
       "      <td>Arrived</td>\n",
       "      <td>733</td>\n",
       "      <td>2017-02-07 06:14:00+00:00</td>\n",
       "      <td>1</td>\n",
       "      <td>2017-02-07 11:13:00+00:00</td>\n",
       "      <td>NaN</td>\n",
       "      <td>0.0</td>\n",
       "      <td>733</td>\n",
       "      <td>Boeing 737-300</td>\n",
       "      <td>17940.0</td>\n",
       "      <td>0.0</td>\n",
       "    </tr>\n",
       "  </tbody>\n",
       "</table>\n",
       "</div>"
      ],
      "text/plain": [
       "    flight_id flight_no   scheduled_departure     scheduled_arrival  \\\n",
       "5      136564    PG0194  2016-12-27T06:10:00Z  2016-12-27T11:15:00Z   \n",
       "7      136540    PG0194  2017-01-17T06:10:00Z  2017-01-17T11:15:00Z   \n",
       "12     136514    PG0194  2017-02-07T06:10:00Z  2017-02-07T11:15:00Z   \n",
       "\n",
       "   departure_airport arrival_airport   status aircraft_code  \\\n",
       "5                AAQ             NOZ  Arrived           733   \n",
       "7                AAQ             NOZ  Arrived           733   \n",
       "12               AAQ             NOZ  Arrived           733   \n",
       "\n",
       "            actual_departure  dayofweek            actual_arrival  \\\n",
       "5  2016-12-27 06:16:00+00:00          1 2016-12-27 11:21:00+00:00   \n",
       "7  2017-01-17 06:14:00+00:00          1 2017-01-17 11:21:00+00:00   \n",
       "12 2017-02-07 06:14:00+00:00          1 2017-02-07 11:13:00+00:00   \n",
       "\n",
       "    flight_id.1  revenue aircraft_code.1           model  flight_time  \\\n",
       "5           NaN      0.0             733  Boeing 737-300      18300.0   \n",
       "7           NaN      0.0             733  Boeing 737-300      18420.0   \n",
       "12          NaN      0.0             733  Boeing 737-300      17940.0   \n",
       "\n",
       "    fly_income  \n",
       "5          0.0  \n",
       "7          0.0  \n",
       "12         0.0  "
      ]
     },
     "execution_count": 81,
     "metadata": {},
     "output_type": "execute_result"
    }
   ],
   "source": [
    "df2 = df[df.fly_income == 0]\n",
    "df2.sample(3)"
   ]
  },
  {
   "cell_type": "markdown",
   "metadata": {},
   "source": [
    "Исключим рейсы без данных о доходе из выборки, чтобы не искажать остальные данные."
   ]
  },
  {
   "cell_type": "code",
   "execution_count": 82,
   "metadata": {},
   "outputs": [],
   "source": [
    "df = df[df.fly_income > 0]"
   ]
  },
  {
   "cell_type": "code",
   "execution_count": 83,
   "metadata": {},
   "outputs": [
    {
     "data": {
      "text/plain": [
       "Index(['flight_id', 'flight_no', 'scheduled_departure', 'scheduled_arrival',\n",
       "       'departure_airport', 'arrival_airport', 'status', 'aircraft_code',\n",
       "       'actual_departure', 'dayofweek', 'actual_arrival', 'flight_id.1',\n",
       "       'revenue', 'aircraft_code.1', 'model', 'flight_time', 'fly_income'],\n",
       "      dtype='object')"
      ]
     },
     "execution_count": 83,
     "metadata": {},
     "output_type": "execute_result"
    }
   ],
   "source": [
    "df.columns"
   ]
  },
  {
   "cell_type": "code",
   "execution_count": 84,
   "metadata": {
    "scrolled": false
   },
   "outputs": [
    {
     "data": {
      "text/html": [
       "<div>\n",
       "<style scoped>\n",
       "    .dataframe tbody tr th:only-of-type {\n",
       "        vertical-align: middle;\n",
       "    }\n",
       "\n",
       "    .dataframe tbody tr th {\n",
       "        vertical-align: top;\n",
       "    }\n",
       "\n",
       "    .dataframe thead th {\n",
       "        text-align: right;\n",
       "    }\n",
       "</style>\n",
       "<table border=\"1\" class=\"dataframe\">\n",
       "  <thead>\n",
       "    <tr style=\"text-align: right;\">\n",
       "      <th></th>\n",
       "      <th>flight_id</th>\n",
       "      <th>dayofweek</th>\n",
       "      <th>flight_id.1</th>\n",
       "      <th>revenue</th>\n",
       "      <th>flight_time</th>\n",
       "      <th>fly_income</th>\n",
       "    </tr>\n",
       "    <tr>\n",
       "      <th>model</th>\n",
       "      <th></th>\n",
       "      <th></th>\n",
       "      <th></th>\n",
       "      <th></th>\n",
       "      <th></th>\n",
       "      <th></th>\n",
       "    </tr>\n",
       "  </thead>\n",
       "  <tbody>\n",
       "    <tr>\n",
       "      <th>Boeing 737-300</th>\n",
       "      <td>136307.800000</td>\n",
       "      <td>3.011111</td>\n",
       "      <td>136307.800000</td>\n",
       "      <td>1.646898e+06</td>\n",
       "      <td>5998.000000</td>\n",
       "      <td>274.663900</td>\n",
       "    </tr>\n",
       "    <tr>\n",
       "      <th>Sukhoi Superjet-100</th>\n",
       "      <td>136773.788889</td>\n",
       "      <td>3.011111</td>\n",
       "      <td>136773.788889</td>\n",
       "      <td>7.123967e+05</td>\n",
       "      <td>3000.666667</td>\n",
       "      <td>237.410837</td>\n",
       "    </tr>\n",
       "  </tbody>\n",
       "</table>\n",
       "</div>"
      ],
      "text/plain": [
       "                         flight_id  dayofweek    flight_id.1       revenue  \\\n",
       "model                                                                        \n",
       "Boeing 737-300       136307.800000   3.011111  136307.800000  1.646898e+06   \n",
       "Sukhoi Superjet-100  136773.788889   3.011111  136773.788889  7.123967e+05   \n",
       "\n",
       "                     flight_time  fly_income  \n",
       "model                                         \n",
       "Boeing 737-300       5998.000000  274.663900  \n",
       "Sukhoi Superjet-100  3000.666667  237.410837  "
      ]
     },
     "metadata": {},
     "output_type": "display_data"
    }
   ],
   "source": [
    "display(df.groupby(['model']).mean())"
   ]
  },
  {
   "cell_type": "code",
   "execution_count": 85,
   "metadata": {
    "scrolled": true
   },
   "outputs": [
    {
     "name": "stdout",
     "output_type": "stream",
     "text": [
      "<class 'pandas.core.frame.DataFrame'>\n",
      "Int64Index: 180 entries, 13 to 192\n",
      "Data columns (total 17 columns):\n",
      " #   Column               Non-Null Count  Dtype              \n",
      "---  ------               --------------  -----              \n",
      " 0   flight_id            180 non-null    int64              \n",
      " 1   flight_no            180 non-null    object             \n",
      " 2   scheduled_departure  180 non-null    object             \n",
      " 3   scheduled_arrival    180 non-null    object             \n",
      " 4   departure_airport    180 non-null    object             \n",
      " 5   arrival_airport      180 non-null    object             \n",
      " 6   status               180 non-null    object             \n",
      " 7   aircraft_code        180 non-null    object             \n",
      " 8   actual_departure     180 non-null    datetime64[ns, UTC]\n",
      " 9   dayofweek            180 non-null    int64              \n",
      " 10  actual_arrival       180 non-null    datetime64[ns, UTC]\n",
      " 11  flight_id.1          180 non-null    float64            \n",
      " 12  revenue              180 non-null    float64            \n",
      " 13  aircraft_code.1      180 non-null    object             \n",
      " 14  model                180 non-null    object             \n",
      " 15  flight_time          180 non-null    float64            \n",
      " 16  fly_income           180 non-null    float64            \n",
      "dtypes: datetime64[ns, UTC](2), float64(4), int64(2), object(9)\n",
      "memory usage: 25.3+ KB\n"
     ]
    }
   ],
   "source": [
    "df.info()"
   ]
  },
  {
   "cell_type": "code",
   "execution_count": 86,
   "metadata": {
    "scrolled": false
   },
   "outputs": [
    {
     "data": {
      "text/html": [
       "<div>\n",
       "<style scoped>\n",
       "    .dataframe tbody tr th:only-of-type {\n",
       "        vertical-align: middle;\n",
       "    }\n",
       "\n",
       "    .dataframe tbody tr th {\n",
       "        vertical-align: top;\n",
       "    }\n",
       "\n",
       "    .dataframe thead th {\n",
       "        text-align: right;\n",
       "    }\n",
       "</style>\n",
       "<table border=\"1\" class=\"dataframe\">\n",
       "  <thead>\n",
       "    <tr style=\"text-align: right;\">\n",
       "      <th></th>\n",
       "      <th>fly_income</th>\n",
       "    </tr>\n",
       "    <tr>\n",
       "      <th>model</th>\n",
       "      <th></th>\n",
       "    </tr>\n",
       "  </thead>\n",
       "  <tbody>\n",
       "    <tr>\n",
       "      <th>Sukhoi Superjet-100</th>\n",
       "      <td>237.410837</td>\n",
       "    </tr>\n",
       "    <tr>\n",
       "      <th>Boeing 737-300</th>\n",
       "      <td>274.663900</td>\n",
       "    </tr>\n",
       "  </tbody>\n",
       "</table>\n",
       "</div>"
      ],
      "text/plain": [
       "                     fly_income\n",
       "model                          \n",
       "Sukhoi Superjet-100  237.410837\n",
       "Boeing 737-300       274.663900"
      ]
     },
     "metadata": {},
     "output_type": "display_data"
    }
   ],
   "source": [
    "pivot = df.pivot_table(values=['fly_income'],\n",
    "index=['model'],\n",
    "aggfunc='mean',\n",
    "margins=False,\n",
    "fill_value=0)\n",
    "display(pivot.sort_values('model', ascending=False)) "
   ]
  },
  {
   "cell_type": "code",
   "execution_count": 87,
   "metadata": {
    "scrolled": true
   },
   "outputs": [
    {
     "data": {
      "text/html": [
       "<div>\n",
       "<style scoped>\n",
       "    .dataframe tbody tr th:only-of-type {\n",
       "        vertical-align: middle;\n",
       "    }\n",
       "\n",
       "    .dataframe tbody tr th {\n",
       "        vertical-align: top;\n",
       "    }\n",
       "\n",
       "    .dataframe thead th {\n",
       "        text-align: right;\n",
       "    }\n",
       "</style>\n",
       "<table border=\"1\" class=\"dataframe\">\n",
       "  <thead>\n",
       "    <tr style=\"text-align: right;\">\n",
       "      <th></th>\n",
       "      <th>fly_income</th>\n",
       "    </tr>\n",
       "    <tr>\n",
       "      <th>dayofweek</th>\n",
       "      <th></th>\n",
       "    </tr>\n",
       "  </thead>\n",
       "  <tbody>\n",
       "    <tr>\n",
       "      <th>6</th>\n",
       "      <td>245.575787</td>\n",
       "    </tr>\n",
       "    <tr>\n",
       "      <th>5</th>\n",
       "      <td>252.910349</td>\n",
       "    </tr>\n",
       "    <tr>\n",
       "      <th>4</th>\n",
       "      <td>262.517474</td>\n",
       "    </tr>\n",
       "    <tr>\n",
       "      <th>3</th>\n",
       "      <td>259.244440</td>\n",
       "    </tr>\n",
       "    <tr>\n",
       "      <th>2</th>\n",
       "      <td>260.843540</td>\n",
       "    </tr>\n",
       "    <tr>\n",
       "      <th>1</th>\n",
       "      <td>256.839254</td>\n",
       "    </tr>\n",
       "    <tr>\n",
       "      <th>0</th>\n",
       "      <td>254.700441</td>\n",
       "    </tr>\n",
       "  </tbody>\n",
       "</table>\n",
       "</div>"
      ],
      "text/plain": [
       "           fly_income\n",
       "dayofweek            \n",
       "6          245.575787\n",
       "5          252.910349\n",
       "4          262.517474\n",
       "3          259.244440\n",
       "2          260.843540\n",
       "1          256.839254\n",
       "0          254.700441"
      ]
     },
     "metadata": {},
     "output_type": "display_data"
    }
   ],
   "source": [
    "pivot = df.pivot_table(values=['fly_income'],\n",
    "index=['dayofweek'],\n",
    "aggfunc='mean',\n",
    "margins=False,\n",
    "fill_value=0)\n",
    "display(pivot.sort_values('dayofweek', ascending=False)) "
   ]
  },
  {
   "cell_type": "code",
   "execution_count": 90,
   "metadata": {},
   "outputs": [
    {
     "data": {
      "text/plain": [
       "<AxesSubplot:xlabel='dayofweek'>"
      ]
     },
     "execution_count": 90,
     "metadata": {},
     "output_type": "execute_result"
    },
    {
     "data": {
      "image/png": "[encoded data removed]",
      "text/plain": [
       "<Figure size 432x288 with 1 Axes>"
      ]
     },
     "metadata": {
      "needs_background": "light"
     },
     "output_type": "display_data"
    }
   ],
   "source": [
    "df.groupby(by = ['dayofweek'])['fly_income'].mean().plot(kind = 'bar', grid= True)"
   ]
  },
  {
   "cell_type": "markdown",
   "metadata": {},
   "source": [
    "Выручка по дням недели практически не отличается\n"
   ]
  },
  {
   "cell_type": "code",
   "execution_count": 89,
   "metadata": {
    "scrolled": true
   },
   "outputs": [
    {
     "data": {
      "text/plain": [
       "<AxesSubplot:xlabel='model', ylabel='fly_income'>"
      ]
     },
     "execution_count": 89,
     "metadata": {},
     "output_type": "execute_result"
    },
    {
     "data": {
      "image/png": "[encoded data removed]",
      "text/plain": [
       "<Figure size 432x288 with 1 Axes>"
      ]
     },
     "metadata": {
      "needs_background": "light"
     },
     "output_type": "display_data"
    }
   ],
   "source": [
    "sns.barplot(x = 'model', y = 'fly_income', data = df)"
   ]
  },
  {
   "cell_type": "markdown",
   "metadata": {},
   "source": [
    "Выручка выше у Боинга, это нормально, т.к. у него больше мест, он крупнее, соответственно и расходы на топливо у него выше, но этих данных у нас нет."
   ]
  },
  {
   "cell_type": "code",
   "execution_count": 91,
   "metadata": {
    "scrolled": true
   },
   "outputs": [
    {
     "data": {
      "text/html": [
       "<div>\n",
       "<style scoped>\n",
       "    .dataframe tbody tr th:only-of-type {\n",
       "        vertical-align: middle;\n",
       "    }\n",
       "\n",
       "    .dataframe tbody tr th {\n",
       "        vertical-align: top;\n",
       "    }\n",
       "\n",
       "    .dataframe thead th {\n",
       "        text-align: right;\n",
       "    }\n",
       "</style>\n",
       "<table border=\"1\" class=\"dataframe\">\n",
       "  <thead>\n",
       "    <tr style=\"text-align: right;\">\n",
       "      <th></th>\n",
       "      <th>flight_id</th>\n",
       "      <th>dayofweek</th>\n",
       "      <th>flight_id.1</th>\n",
       "      <th>revenue</th>\n",
       "      <th>flight_time</th>\n",
       "      <th>fly_income</th>\n",
       "    </tr>\n",
       "  </thead>\n",
       "  <tbody>\n",
       "    <tr>\n",
       "      <th>count</th>\n",
       "      <td>180.000000</td>\n",
       "      <td>180.000000</td>\n",
       "      <td>180.000000</td>\n",
       "      <td>1.800000e+02</td>\n",
       "      <td>180.000000</td>\n",
       "      <td>180.000000</td>\n",
       "    </tr>\n",
       "    <tr>\n",
       "      <th>mean</th>\n",
       "      <td>136540.794444</td>\n",
       "      <td>3.011111</td>\n",
       "      <td>136540.794444</td>\n",
       "      <td>1.179647e+06</td>\n",
       "      <td>4499.333333</td>\n",
       "      <td>256.037369</td>\n",
       "    </tr>\n",
       "    <tr>\n",
       "      <th>std</th>\n",
       "      <td>258.233139</td>\n",
       "      <td>2.013887</td>\n",
       "      <td>258.233139</td>\n",
       "      <td>4.811836e+05</td>\n",
       "      <td>1503.702544</td>\n",
       "      <td>29.019178</td>\n",
       "    </tr>\n",
       "    <tr>\n",
       "      <th>min</th>\n",
       "      <td>136119.000000</td>\n",
       "      <td>0.000000</td>\n",
       "      <td>136119.000000</td>\n",
       "      <td>5.310000e+05</td>\n",
       "      <td>2940.000000</td>\n",
       "      <td>177.000000</td>\n",
       "    </tr>\n",
       "    <tr>\n",
       "      <th>25%</th>\n",
       "      <td>136309.000000</td>\n",
       "      <td>1.000000</td>\n",
       "      <td>136309.000000</td>\n",
       "      <td>7.385250e+05</td>\n",
       "      <td>3000.000000</td>\n",
       "      <td>240.155442</td>\n",
       "    </tr>\n",
       "    <tr>\n",
       "      <th>50%</th>\n",
       "      <td>136531.500000</td>\n",
       "      <td>3.000000</td>\n",
       "      <td>136531.500000</td>\n",
       "      <td>1.068850e+06</td>\n",
       "      <td>4470.000000</td>\n",
       "      <td>253.000000</td>\n",
       "    </tr>\n",
       "    <tr>\n",
       "      <th>75%</th>\n",
       "      <td>136775.000000</td>\n",
       "      <td>5.000000</td>\n",
       "      <td>136775.000000</td>\n",
       "      <td>1.631950e+06</td>\n",
       "      <td>6000.000000</td>\n",
       "      <td>272.995875</td>\n",
       "    </tr>\n",
       "    <tr>\n",
       "      <th>max</th>\n",
       "      <td>136961.000000</td>\n",
       "      <td>6.000000</td>\n",
       "      <td>136961.000000</td>\n",
       "      <td>1.886000e+06</td>\n",
       "      <td>6180.000000</td>\n",
       "      <td>320.748299</td>\n",
       "    </tr>\n",
       "  </tbody>\n",
       "</table>\n",
       "</div>"
      ],
      "text/plain": [
       "           flight_id   dayofweek    flight_id.1       revenue  flight_time  \\\n",
       "count     180.000000  180.000000     180.000000  1.800000e+02   180.000000   \n",
       "mean   136540.794444    3.011111  136540.794444  1.179647e+06  4499.333333   \n",
       "std       258.233139    2.013887     258.233139  4.811836e+05  1503.702544   \n",
       "min    136119.000000    0.000000  136119.000000  5.310000e+05  2940.000000   \n",
       "25%    136309.000000    1.000000  136309.000000  7.385250e+05  3000.000000   \n",
       "50%    136531.500000    3.000000  136531.500000  1.068850e+06  4470.000000   \n",
       "75%    136775.000000    5.000000  136775.000000  1.631950e+06  6000.000000   \n",
       "max    136961.000000    6.000000  136961.000000  1.886000e+06  6180.000000   \n",
       "\n",
       "       fly_income  \n",
       "count  180.000000  \n",
       "mean   256.037369  \n",
       "std     29.019178  \n",
       "min    177.000000  \n",
       "25%    240.155442  \n",
       "50%    253.000000  \n",
       "75%    272.995875  \n",
       "max    320.748299  "
      ]
     },
     "execution_count": 91,
     "metadata": {},
     "output_type": "execute_result"
    }
   ],
   "source": [
    "df.describe()"
   ]
  },
  {
   "cell_type": "markdown",
   "metadata": {},
   "source": [
    "Видим минимальный доход на единицу времени полёта на уровне 177 руб\\сек. Посмотрим какие рейсы совершены с доходом менее 200 руб/сек."
   ]
  },
  {
   "cell_type": "code",
   "execution_count": 93,
   "metadata": {
    "scrolled": false
   },
   "outputs": [
    {
     "data": {
      "text/html": [
       "<div>\n",
       "<style scoped>\n",
       "    .dataframe tbody tr th:only-of-type {\n",
       "        vertical-align: middle;\n",
       "    }\n",
       "\n",
       "    .dataframe tbody tr th {\n",
       "        vertical-align: top;\n",
       "    }\n",
       "\n",
       "    .dataframe thead th {\n",
       "        text-align: right;\n",
       "    }\n",
       "</style>\n",
       "<table border=\"1\" class=\"dataframe\">\n",
       "  <thead>\n",
       "    <tr style=\"text-align: right;\">\n",
       "      <th></th>\n",
       "      <th>flight_id</th>\n",
       "      <th>flight_no</th>\n",
       "      <th>scheduled_departure</th>\n",
       "      <th>scheduled_arrival</th>\n",
       "      <th>departure_airport</th>\n",
       "      <th>arrival_airport</th>\n",
       "      <th>status</th>\n",
       "      <th>aircraft_code</th>\n",
       "      <th>actual_departure</th>\n",
       "      <th>dayofweek</th>\n",
       "      <th>actual_arrival</th>\n",
       "      <th>flight_id.1</th>\n",
       "      <th>revenue</th>\n",
       "      <th>aircraft_code.1</th>\n",
       "      <th>model</th>\n",
       "      <th>flight_time</th>\n",
       "      <th>fly_income</th>\n",
       "    </tr>\n",
       "  </thead>\n",
       "  <tbody>\n",
       "    <tr>\n",
       "      <th>190</th>\n",
       "      <td>136844</td>\n",
       "      <td>PG0480</td>\n",
       "      <td>2017-02-28T09:25:00Z</td>\n",
       "      <td>2017-02-28T10:15:00Z</td>\n",
       "      <td>AAQ</td>\n",
       "      <td>EGO</td>\n",
       "      <td>Arrived</td>\n",
       "      <td>SU9</td>\n",
       "      <td>2017-02-28 09:26:00+00:00</td>\n",
       "      <td>1</td>\n",
       "      <td>2017-02-28 10:16:00+00:00</td>\n",
       "      <td>136844.0</td>\n",
       "      <td>575100.0</td>\n",
       "      <td>SU9</td>\n",
       "      <td>Sukhoi Superjet-100</td>\n",
       "      <td>3000.0</td>\n",
       "      <td>191.700000</td>\n",
       "    </tr>\n",
       "    <tr>\n",
       "      <th>191</th>\n",
       "      <td>136807</td>\n",
       "      <td>PG0480</td>\n",
       "      <td>2017-02-23T09:25:00Z</td>\n",
       "      <td>2017-02-23T10:15:00Z</td>\n",
       "      <td>AAQ</td>\n",
       "      <td>EGO</td>\n",
       "      <td>Arrived</td>\n",
       "      <td>SU9</td>\n",
       "      <td>2017-02-23 09:28:00+00:00</td>\n",
       "      <td>3</td>\n",
       "      <td>2017-02-23 10:18:00+00:00</td>\n",
       "      <td>136807.0</td>\n",
       "      <td>531000.0</td>\n",
       "      <td>SU9</td>\n",
       "      <td>Sukhoi Superjet-100</td>\n",
       "      <td>3000.0</td>\n",
       "      <td>177.000000</td>\n",
       "    </tr>\n",
       "    <tr>\n",
       "      <th>192</th>\n",
       "      <td>136642</td>\n",
       "      <td>PG0480</td>\n",
       "      <td>2017-01-30T09:25:00Z</td>\n",
       "      <td>2017-01-30T10:15:00Z</td>\n",
       "      <td>AAQ</td>\n",
       "      <td>EGO</td>\n",
       "      <td>Arrived</td>\n",
       "      <td>SU9</td>\n",
       "      <td>2017-01-30 09:28:00+00:00</td>\n",
       "      <td>0</td>\n",
       "      <td>2017-01-30 10:17:00+00:00</td>\n",
       "      <td>136642.0</td>\n",
       "      <td>531000.0</td>\n",
       "      <td>SU9</td>\n",
       "      <td>Sukhoi Superjet-100</td>\n",
       "      <td>2940.0</td>\n",
       "      <td>180.612245</td>\n",
       "    </tr>\n",
       "  </tbody>\n",
       "</table>\n",
       "</div>"
      ],
      "text/plain": [
       "     flight_id flight_no   scheduled_departure     scheduled_arrival  \\\n",
       "190     136844    PG0480  2017-02-28T09:25:00Z  2017-02-28T10:15:00Z   \n",
       "191     136807    PG0480  2017-02-23T09:25:00Z  2017-02-23T10:15:00Z   \n",
       "192     136642    PG0480  2017-01-30T09:25:00Z  2017-01-30T10:15:00Z   \n",
       "\n",
       "    departure_airport arrival_airport   status aircraft_code  \\\n",
       "190               AAQ             EGO  Arrived           SU9   \n",
       "191               AAQ             EGO  Arrived           SU9   \n",
       "192               AAQ             EGO  Arrived           SU9   \n",
       "\n",
       "             actual_departure  dayofweek            actual_arrival  \\\n",
       "190 2017-02-28 09:26:00+00:00          1 2017-02-28 10:16:00+00:00   \n",
       "191 2017-02-23 09:28:00+00:00          3 2017-02-23 10:18:00+00:00   \n",
       "192 2017-01-30 09:28:00+00:00          0 2017-01-30 10:17:00+00:00   \n",
       "\n",
       "     flight_id.1   revenue aircraft_code.1                model  flight_time  \\\n",
       "190     136844.0  575100.0             SU9  Sukhoi Superjet-100       3000.0   \n",
       "191     136807.0  531000.0             SU9  Sukhoi Superjet-100       3000.0   \n",
       "192     136642.0  531000.0             SU9  Sukhoi Superjet-100       2940.0   \n",
       "\n",
       "     fly_income  \n",
       "190  191.700000  \n",
       "191  177.000000  \n",
       "192  180.612245  "
      ]
     },
     "execution_count": 93,
     "metadata": {},
     "output_type": "execute_result"
    }
   ],
   "source": [
    "df.min = df[df.fly_income < 200]\n",
    "df.min"
   ]
  },
  {
   "cell_type": "markdown",
   "metadata": {},
   "source": [
    "Если мы хотим сократить количество наименее прибыльных рейсов, то эти три рейса мы проверим в первую очередь."
   ]
  }
 ],
 "metadata": {
  "kernelspec": {
   "display_name": "Python 3",
   "language": "python",
   "name": "python3"
  },
  "language_info": {
   "codemirror_mode": {
    "name": "ipython",
    "version": 3
   },
   "file_extension": ".py",
   "mimetype": "text/x-python",
   "name": "python",
   "nbconvert_exporter": "python",
   "pygments_lexer": "ipython3",
   "version": "3.8.5"
  }
 },
 "nbformat": 4,
 "nbformat_minor": 4
}
